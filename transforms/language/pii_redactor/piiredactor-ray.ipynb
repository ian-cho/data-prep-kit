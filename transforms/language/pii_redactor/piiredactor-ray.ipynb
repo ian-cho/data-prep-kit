{
 "cells": [
  {
   "cell_type": "markdown",
   "id": "afd55886-5f5b-4794-838e-ef8179fb0394",
   "metadata": {},
   "source": [
    "##### **** These pip installs need to be adapted to use the appropriate release level. Alternatively, The venv running the jupyter lab could be pre-configured with a requirement file that includes the right release. Example for transform developers working from git clone:\n",
    "```\n",
    "make venv \n",
    "source venv/bin/activate \n",
    "pip install jupyterlab\n",
    "```"
   ]
  },
  {
   "cell_type": "code",
   "execution_count": 1,
   "id": "4c45c3c6-e4d7-4e61-8de6-32d61f2ce695",
   "metadata": {
    "scrolled": true
   },
   "outputs": [],
   "source": [
    "%%capture\n",
    "## This is here as a reference only\n",
    "# Users and application developers must use the right tag for the latest from pypi\n",
    "%pip install \"data-prep-toolkit-transforms[ray,pii_redactor]==1.0.0a5\""
   ]
  },
  {
   "cell_type": "markdown",
   "id": "407fd4e4-265d-4ec7-bbc9-b43158f5f1f3",
   "metadata": {
    "jp-MarkdownHeadingCollapsed": true
   },
   "source": [
    "##### **** Configure the transform parameters. \n",
    "```\n",
    " --pii_redactor_entities PII_ENTITIES\n",
    "                        list of PII entities to be captured for example: [\"PERSON\", \"EMAIL\"]\n",
    " --pii_redactor_operator REDACTOR_OPERATOR\n",
    "                        Two redaction techniques are supported - replace(default), redact \n",
    "  --pii_redactor_transformed_contents PII_TRANSFORMED_CONTENT_COLUMN_NAME\n",
    "                        Mention the column name in which transformed contents will be added. This is required argument. \n",
    "  --pii_redactor_score_threshold SCORE_THRESHOLD\n",
    "                        The score_threshold is a parameter that sets the minimum confidence score required for an entity to be considered a match. Provide a value above 0.6\n",
    "```\n",
    "#####"
   ]
  },
  {
   "cell_type": "markdown",
   "id": "ebf1f782-0e61-485c-8670-81066beb734c",
   "metadata": {},
   "source": [
    "##### ***** Import required classes and modules"
   ]
  },
  {
   "cell_type": "code",
   "execution_count": 2,
   "id": "c2a12abc-9460-4e45-8961-873b48a9ab19",
   "metadata": {},
   "outputs": [],
   "source": [
    "from dpk_pii_redactor.ray.transform import PIIRedactor\n",
    "from data_processing.utils import GB"
   ]
  },
  {
   "cell_type": "markdown",
   "id": "7234563c-2924-4150-8a31-4aec98c1bf33",
   "metadata": {},
   "source": [
    "##### ***** Setup runtime parameters and invoke the transform"
   ]
  },
  {
   "cell_type": "code",
   "execution_count": 3,
   "id": "95737436",
   "metadata": {},
   "outputs": [
    {
     "name": "stderr",
     "output_type": "stream",
     "text": [
      "17:15:38 INFO - pipeline id pipeline_id\n",
      "17:15:38 INFO - code location None\n",
      "17:15:38 INFO - number of workers 3 worker options {'num_cpus': 0.8, 'memory': 2147483648, 'max_restarts': -1}\n",
      "17:15:38 INFO - actor creation delay 0\n",
      "17:15:38 INFO - job details {'job category': 'preprocessing', 'job name': 'pii_redactor', 'job type': 'ray', 'job id': 'job_id'}\n",
      "17:15:38 INFO - data factory data_ is using local data access: input_folder - ray/test-data/input output_folder - output\n",
      "17:15:38 INFO - data factory data_ max_files -1, n_sample -1\n",
      "17:15:38 INFO - data factory data_ Not using data sets, checkpointing False, max files -1, random samples -1, files to use ['.parquet'], files to checkpoint ['.parquet']\n",
      "17:15:38 INFO - Running locally\n",
      "2025-01-16 17:15:39,562\tINFO worker.py:1777 -- Started a local Ray instance. View the dashboard at \u001b[1m\u001b[32mhttp://127.0.0.1:8265 \u001b[39m\u001b[22m\n",
      "17:16:09 INFO - Completed execution in 0.513 min, execution result 0\n"
     ]
    }
   ],
   "source": [
    "%%capture\n",
    "PIIRedactor(input_folder='ray/test-data/input',\n",
    "            output_folder= 'output',\n",
    "            run_locally= True,\n",
    "            num_cpus= 0.8,\n",
    "            memory= 2 * GB,\n",
    "            runtime_num_workers = 3,\n",
    "            runtime_creation_delay = 0,\n",
    "            pii_redactor_entities = [\"PERSON\", \"EMAIL_ADDRESS\"],\n",
    "            pii_redactor_operator = \"replace\",\n",
    "            pii_redactor_transformed_contents = \"title\").transform()"
   ]
  },
  {
   "cell_type": "markdown",
   "id": "c3df5adf-4717-4a03-864d-9151cd3f134b",
   "metadata": {},
   "source": [
    "##### **** The specified folder will include the transformed parquet files."
   ]
  },
  {
   "cell_type": "code",
   "execution_count": 4,
   "id": "7276fe84-6512-4605-ab65-747351e13a7c",
   "metadata": {},
   "outputs": [
    {
     "data": {
      "text/plain": [
       "['output/metadata.json', 'output/test1.parquet']"
      ]
     },
     "execution_count": 4,
     "metadata": {},
     "output_type": "execute_result"
    }
   ],
   "source": [
    "import glob\n",
    "glob.glob(\"output/*\")"
   ]
  },
  {
   "cell_type": "code",
   "execution_count": 5,
   "id": "845a75cf-f4a9-467d-87fa-ccbac1c9beb8",
   "metadata": {},
   "outputs": [
    {
     "data": {
      "text/html": [
       "<div>\n",
       "<style scoped>\n",
       "    .dataframe tbody tr th:only-of-type {\n",
       "        vertical-align: middle;\n",
       "    }\n",
       "\n",
       "    .dataframe tbody tr th {\n",
       "        vertical-align: top;\n",
       "    }\n",
       "\n",
       "    .dataframe thead th {\n",
       "        text-align: right;\n",
       "    }\n",
       "</style>\n",
       "<table border=\"1\" class=\"dataframe\">\n",
       "  <thead>\n",
       "    <tr style=\"text-align: right;\">\n",
       "      <th></th>\n",
       "      <th>contents</th>\n",
       "      <th>doc_id</th>\n",
       "    </tr>\n",
       "  </thead>\n",
       "  <tbody>\n",
       "    <tr>\n",
       "      <th>0</th>\n",
       "      <td>I am Tom Chandler</td>\n",
       "      <td>doc1</td>\n",
       "    </tr>\n",
       "    <tr>\n",
       "      <th>1</th>\n",
       "      <td>My website is www.tomchandler.com</td>\n",
       "      <td>doc2</td>\n",
       "    </tr>\n",
       "    <tr>\n",
       "      <th>2</th>\n",
       "      <td>Contact me at greek@yahoo.com</td>\n",
       "      <td>doc3</td>\n",
       "    </tr>\n",
       "  </tbody>\n",
       "</table>\n",
       "</div>"
      ],
      "text/plain": [
       "                            contents doc_id\n",
       "0                  I am Tom Chandler   doc1\n",
       "1  My website is www.tomchandler.com   doc2\n",
       "2      Contact me at greek@yahoo.com   doc3"
      ]
     },
     "execution_count": 5,
     "metadata": {},
     "output_type": "execute_result"
    }
   ],
   "source": [
    "import pandas as pd\n",
    "pd.read_parquet('ray/test-data/input/test1.parquet', engine='pyarrow')"
   ]
  },
  {
   "cell_type": "code",
   "execution_count": 6,
   "id": "c9a2c725-6596-4ee5-8869-b6ec155153b1",
   "metadata": {},
   "outputs": [
    {
     "data": {
      "text/html": [
       "<div>\n",
       "<style scoped>\n",
       "    .dataframe tbody tr th:only-of-type {\n",
       "        vertical-align: middle;\n",
       "    }\n",
       "\n",
       "    .dataframe tbody tr th {\n",
       "        vertical-align: top;\n",
       "    }\n",
       "\n",
       "    .dataframe thead th {\n",
       "        text-align: right;\n",
       "    }\n",
       "</style>\n",
       "<table border=\"1\" class=\"dataframe\">\n",
       "  <thead>\n",
       "    <tr style=\"text-align: right;\">\n",
       "      <th></th>\n",
       "      <th>detected_pii</th>\n",
       "      <th>title</th>\n",
       "      <th>contents</th>\n",
       "      <th>doc_id</th>\n",
       "    </tr>\n",
       "  </thead>\n",
       "  <tbody>\n",
       "    <tr>\n",
       "      <th>0</th>\n",
       "      <td>[PERSON]</td>\n",
       "      <td>I am &lt;PERSON&gt;</td>\n",
       "      <td>I am Tom Chandler</td>\n",
       "      <td>doc1</td>\n",
       "    </tr>\n",
       "    <tr>\n",
       "      <th>1</th>\n",
       "      <td>[]</td>\n",
       "      <td>My website is www.tomchandler.com</td>\n",
       "      <td>My website is www.tomchandler.com</td>\n",
       "      <td>doc2</td>\n",
       "    </tr>\n",
       "    <tr>\n",
       "      <th>2</th>\n",
       "      <td>[EMAIL_ADDRESS]</td>\n",
       "      <td>Contact me at &lt;EMAIL_ADDRESS&gt;</td>\n",
       "      <td>Contact me at greek@yahoo.com</td>\n",
       "      <td>doc3</td>\n",
       "    </tr>\n",
       "  </tbody>\n",
       "</table>\n",
       "</div>"
      ],
      "text/plain": [
       "      detected_pii                              title  \\\n",
       "0         [PERSON]                      I am <PERSON>   \n",
       "1               []  My website is www.tomchandler.com   \n",
       "2  [EMAIL_ADDRESS]      Contact me at <EMAIL_ADDRESS>   \n",
       "\n",
       "                            contents doc_id  \n",
       "0                  I am Tom Chandler   doc1  \n",
       "1  My website is www.tomchandler.com   doc2  \n",
       "2      Contact me at greek@yahoo.com   doc3  "
      ]
     },
     "execution_count": 6,
     "metadata": {},
     "output_type": "execute_result"
    }
   ],
   "source": [
    "pd.read_parquet('output/test1.parquet', engine='pyarrow')"
   ]
  },
  {
   "cell_type": "code",
   "execution_count": null,
   "id": "6ad102df-1038-4b86-9e8e-021de5fe0b8b",
   "metadata": {},
   "outputs": [],
   "source": []
  }
 ],
 "metadata": {
  "kernelspec": {
   "display_name": "Python 3 (ipykernel)",
   "language": "python",
   "name": "python3"
  },
  "language_info": {
   "codemirror_mode": {
    "name": "ipython",
    "version": 3
   },
   "file_extension": ".py",
   "mimetype": "text/x-python",
   "name": "python",
   "nbconvert_exporter": "python",
   "pygments_lexer": "ipython3",
   "version": "3.11.10"
  }
 },
 "nbformat": 4,
 "nbformat_minor": 5
}
