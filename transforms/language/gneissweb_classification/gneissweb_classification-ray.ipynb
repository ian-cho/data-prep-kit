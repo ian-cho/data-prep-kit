{
 "cells": [
  {
   "cell_type": "markdown",
   "id": "afd55886-5f5b-4794-838e-ef8179fb0394",
   "metadata": {},
   "source": [
    "##### **** These pip installs need to be adapted to use the appropriate release level. Alternatively, The venv running the jupyter lab could be pre-configured with a requirement file that includes the right release. Example for transform developers working from git clone:\n",
    "```\n",
    "make venv \n",
    "source venv/bin/activate \n",
    "pip install jupyterlab\n",
    "venv/bin/jupyter lab\n",
    "```"
   ]
  },
  {
   "cell_type": "code",
   "execution_count": null,
   "id": "4c45c3c6-e4d7-4e61-8de6-32d61f2ce695",
   "metadata": {},
   "outputs": [],
   "source": [
    "%%capture\n",
    "## This is here as a reference only\n",
    "# Users and application developers must use the right tag for the latest from pypi\n",
    "%pip install 'data-prep-toolkit-transforms[ray,gneissweb_classification]'"
   ]
  },
  {
   "cell_type": "markdown",
   "id": "407fd4e4-265d-4ec7-bbc9-b43158f5f1f3",
   "metadata": {
    "jp-MarkdownHeadingCollapsed": true
   },
   "source": [
    "##### **** Configure the transform parameters. The set of dictionary keys holding DocIDTransform configuration for values are as follows: \n",
    "| Configuration Parameters | Default  | Description |\n",
    "|------------|----------|--------------|\n",
    "| gcls_model_credential | _unset_ | specifies the credential you use to get modela. This will be huggingface token. [Guide to get huggingface token](https://huggingface.co/docs/hub/security-tokens) |\n",
    "| gcls_model_file_name | _unset_ | specifies what filename of models you use to get models, like [`fasttext_medical.bin`] |\n",
    "| gcls_model_url | _unset_ |  specifies url that models locate. For fasttext, this will be repo name of the models, like [`ibm-granite/GneissWeb.Med_classifier`] |\n",
    "| gcls_n_processes | 1 | number of processes. Must be a positive integer |\n",
    "| gcls_content_column_name | `contents` | specifies name of the column containing documents |\n",
    "| gcls_output_label_column_name | [`label`] | specifies name of the output columns to hold predicted classes |\n",
    "| gcls_output_score_column_name | [`score`] | specifies name of the output columns to hold score of prediction |"
   ]
  },
  {
   "cell_type": "markdown",
   "id": "ebf1f782-0e61-485c-8670-81066beb734c",
   "metadata": {},
   "source": [
    "##### ***** Import required classes and modules"
   ]
  },
  {
   "cell_type": "code",
   "execution_count": 1,
   "id": "9669273a-8fcc-4b40-9b20-8df658e2ab58",
   "metadata": {},
   "outputs": [],
   "source": [
    "from dpk_gneissweb_classification.ray.transform import Classification"
   ]
  },
  {
   "cell_type": "markdown",
   "id": "7234563c-2924-4150-8a31-4aec98c1bf33",
   "metadata": {},
   "source": [
    "##### ***** Setup runtime parameters for this transform"
   ]
  },
  {
   "cell_type": "code",
   "execution_count": 2,
   "id": "badafb96-64d2-4bb8-9f3e-b23713fd5c3f",
   "metadata": {},
   "outputs": [
    {
     "name": "stderr",
     "output_type": "stream",
     "text": [
      "10:36:20 INFO - parameters are : {'gcls_model_credential': 'PUT YOUR OWN HUGGINGFACE CREDENTIAL', 'gcls_model_file_name': [\"['fasttext_medical.bin']\"], 'gcls_model_url': [\"['ibm-granite/GneissWeb.Med_classifier']\"], 'gcls_content_column_name': 'text', 'gcls_output_label_column_name': [\"['label']\"], 'gcls_output_score_column_name': [\"['score']\"], 'gcls_n_processes': 2}\n",
      "10:36:20 INFO - pipeline id pipeline_id\n",
      "10:36:20 INFO - code location None\n",
      "10:36:20 INFO - number of workers 1 worker options {'num_cpus': 0.8, 'max_restarts': -1}\n",
      "10:36:20 INFO - actor creation delay 0\n",
      "10:36:20 INFO - job details {'job category': 'preprocessing', 'job name': 'gcls', 'job type': 'ray', 'job id': 'job_id'}\n",
      "10:36:20 INFO - data factory data_ is using local data access: input_folder - test-data/input output_folder - output\n",
      "10:36:20 INFO - data factory data_ max_files -1, n_sample -1\n",
      "10:36:20 INFO - data factory data_ Not using data sets, checkpointing False, max files -1, random samples -1, files to use ['.parquet'], files to checkpoint ['.parquet']\n",
      "10:36:20 INFO - Running locally\n",
      "2025-02-21 10:36:22,064\tINFO worker.py:1777 -- Started a local Ray instance. View the dashboard at \u001b[1m\u001b[32m127.0.0.1:8265 \u001b[39m\u001b[22m\n",
      "\u001b[36m(orchestrate pid=99531)\u001b[0m 10:36:23 INFO - orchestrator started at 2025-02-21 10:36:23\n",
      "\u001b[36m(orchestrate pid=99531)\u001b[0m 10:36:23 INFO - Number of files is 1, source profile {'max_file_size': 0.04273414611816406, 'min_file_size': 0.04273414611816406, 'total_file_size': 0.04273414611816406}\n",
      "\u001b[36m(orchestrate pid=99531)\u001b[0m 10:36:23 INFO - Cluster resources: {'cpus': 10, 'gpus': 0, 'memory': 29.46222076471895, 'object_store': 2.0}\n",
      "\u001b[36m(orchestrate pid=99531)\u001b[0m 10:36:23 INFO - Number of workers - 1 with {'num_cpus': 0.8, 'max_restarts': -1} each\n",
      "\u001b[36m(orchestrate pid=99531)\u001b[0m 10:36:24 INFO - Completed 0 files (0.0%)  in 0.0 min. Waiting for completion\n",
      "\u001b[36m(RayTransformFileProcessor pid=99535)\u001b[0m Warning : `load_model` does not return WordVectorModel or SupervisedModel any more, but a `FastText` object which is very similar.\n",
      "\u001b[36m(RayTransformFileProcessor pid=99535)\u001b[0m Warning : `load_model` does not return WordVectorModel or SupervisedModel any more, but a `FastText` object which is very similar.\n",
      "\u001b[36m(orchestrate pid=99531)\u001b[0m 10:36:28 INFO - Completed processing 1 files in 0.073 min\n",
      "\u001b[36m(orchestrate pid=99531)\u001b[0m 10:36:28 INFO - done flushing in 0.001 sec\n",
      "10:36:38 INFO - Completed execution in 0.308 min, execution result 0\n"
     ]
    },
    {
     "name": "stdout",
     "output_type": "stream",
     "text": [
      "CPU times: user 134 ms, sys: 115 ms, total: 249 ms\n",
      "Wall time: 20 s\n"
     ]
    },
    {
     "data": {
      "text/plain": [
       "0"
      ]
     },
     "execution_count": 2,
     "metadata": {},
     "output_type": "execute_result"
    }
   ],
   "source": [
    "%%time\n",
    "Classification(input_folder= \"test-data/input\",\n",
    "        output_folder= \"output\",\n",
    "        gcls_model_credential= \"PUT YOUR OWN HUGGINGFACE CREDENTIAL\",\n",
    "        gcls_model_file_name= [\"fasttext_medical.bin\"],\n",
    "        gcls_model_url= [\"ibm-granite/GneissWeb.Med_classifier\"],\n",
    "        gcls_n_processes=2,\n",
    "        gcls_output_label_column_name=[\"label\"],\n",
    "        run_locally= True,\n",
    "        gcls_content_column_name= \"text\").transform()"
   ]
  },
  {
   "cell_type": "markdown",
   "id": "c3df5adf-4717-4a03-864d-9151cd3f134b",
   "metadata": {},
   "source": [
    "##### **** The specified folder will include the transformed parquet files."
   ]
  },
  {
   "cell_type": "code",
   "execution_count": 3,
   "id": "7276fe84-6512-4605-ab65-747351e13a7c",
   "metadata": {},
   "outputs": [
    {
     "data": {
      "text/plain": [
       "['output/metadata.json', 'output/test_01.parquet']"
      ]
     },
     "execution_count": 3,
     "metadata": {},
     "output_type": "execute_result"
    }
   ],
   "source": [
    "import glob\n",
    "glob.glob(\"output/*\")"
   ]
  },
  {
   "cell_type": "code",
   "execution_count": null,
   "id": "845a75cf-f4a9-467d-87fa-ccbac1c9beb8",
   "metadata": {},
   "outputs": [],
   "source": []
  }
 ],
 "metadata": {
  "kernelspec": {
   "display_name": "dpk-outer",
   "language": "python",
   "name": "python3"
  },
  "language_info": {
   "codemirror_mode": {
    "name": "ipython",
    "version": 3
   },
   "file_extension": ".py",
   "mimetype": "text/x-python",
   "name": "python",
   "nbconvert_exporter": "python",
   "pygments_lexer": "ipython3",
   "version": "3.11.0"
  }
 },
 "nbformat": 4,
 "nbformat_minor": 5
}
