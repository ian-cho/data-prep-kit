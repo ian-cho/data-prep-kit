{
 "cells": [
  {
   "cell_type": "code",
   "execution_count": null,
   "id": "c4f9c952-cb3b-40f1-bfb5-00d9a43a5715",
   "metadata": {
    "scrolled": true
   },
   "outputs": [],
   "source": [
    "%%capture\n",
    "!pip install 'data-prep-toolkit[ray]'\n",
    "!pip install 'data-prep-toolkit-transforms[pdf2parquet]'\n",
    "!pip install pandas\n",
    "!pip install -U ipywidgets"
   ]
  },
  {
   "cell_type": "code",
   "execution_count": null,
   "id": "76469c87-cfd0-4acd-b57f-36edc52018ff",
   "metadata": {},
   "outputs": [],
   "source": [
    "from dpk_pdf2parquet.ray.transform import Pdf2Parquet\n",
    "from data_processing.utils import GB\n",
    "from dpk_pdf2parquet.transform import pdf2parquet_contents_types"
   ]
  },
  {
   "cell_type": "code",
   "execution_count": null,
   "id": "90277e74-f223-434d-b256-94079bd6c5bc",
   "metadata": {
    "scrolled": true
   },
   "outputs": [
    {
     "name": "stderr",
     "output_type": "stream",
     "text": [
      "08:48:36 INFO - pdf2parquet parameters are : {'batch_size': -1, 'artifacts_path': None, 'contents_type': <pdf2parquet_contents_types.JSON: 'application/json'>, 'do_table_structure': True, 'do_ocr': True, 'ocr_engine': <pdf2parquet_ocr_engine.EASYOCR: 'easyocr'>, 'bitmap_area_threshold': 0.05, 'pdf_backend': <pdf2parquet_pdf_backend.DLPARSE_V2: 'dlparse_v2'>, 'double_precision': 8}\n",
      "08:48:36 INFO - pipeline id pipeline_id\n",
      "08:48:36 INFO - code location None\n",
      "08:48:36 INFO - number of workers 2 worker options {'num_cpus': 1, 'memory': 2147483648, 'max_restarts': -1}\n",
      "08:48:36 INFO - actor creation delay 0\n",
      "08:48:36 INFO - job details {'job category': 'preprocessing', 'job name': 'pdf2parquet', 'job type': 'ray', 'job id': 'job_id'}\n",
      "08:48:36 INFO - data factory data_ is using local data access: input_folder - test-data/input output_folder - output\n",
      "08:48:36 INFO - data factory data_ max_files -1, n_sample -1\n",
      "08:48:36 INFO - data factory data_ Not using data sets, checkpointing False, max files -1, random samples -1, files to use ['.pdf'], files to checkpoint ['.parquet']\n",
      "08:48:36 INFO - Running locally\n",
      "2024-11-24 08:48:38,466\tINFO worker.py:1777 -- Started a local Ray instance. View the dashboard at \u001b[1m\u001b[32mhttp://127.0.0.1:8265 \u001b[39m\u001b[22m\n",
      "08:49:36 INFO - Completed execution in 1.011 min, execution result 0\n"
     ]
    }
   ],
   "source": [
    "%%capture\n",
    "Pdf2Parquet(input_folder= \"test-data/input\", \n",
    "               output_folder= \"output\", \n",
    "               data_files_to_use=['.pdf'],\n",
    "               run_locally= True,\n",
    "               num_cpus= 1,\n",
    "               memory= 2 * GB,\n",
    "               runtime_num_workers = 2,\n",
    "               pdf2parquet_contents_type=pdf2parquet_contents_types.JSON).transform()"
   ]
  },
  {
   "cell_type": "code",
   "execution_count": 4,
   "id": "e2bee8da-c566-4e45-bca1-354dfd04b0df",
   "metadata": {},
   "outputs": [
    {
     "data": {
      "text/html": [
       "<div>\n",
       "<style scoped>\n",
       "    .dataframe tbody tr th:only-of-type {\n",
       "        vertical-align: middle;\n",
       "    }\n",
       "\n",
       "    .dataframe tbody tr th {\n",
       "        vertical-align: top;\n",
       "    }\n",
       "\n",
       "    .dataframe thead th {\n",
       "        text-align: right;\n",
       "    }\n",
       "</style>\n",
       "<table border=\"1\" class=\"dataframe\">\n",
       "  <thead>\n",
       "    <tr style=\"text-align: right;\">\n",
       "      <th></th>\n",
       "      <th>filename</th>\n",
       "      <th>contents</th>\n",
       "      <th>num_pages</th>\n",
       "      <th>num_tables</th>\n",
       "      <th>num_doc_elements</th>\n",
       "      <th>document_id</th>\n",
       "      <th>document_hash</th>\n",
       "      <th>ext</th>\n",
       "      <th>hash</th>\n",
       "      <th>size</th>\n",
       "      <th>date_acquired</th>\n",
       "      <th>pdf_convert_time</th>\n",
       "      <th>source_filename</th>\n",
       "    </tr>\n",
       "  </thead>\n",
       "  <tbody>\n",
       "    <tr>\n",
       "      <th>0</th>\n",
       "      <td>redp5110-ch1.pdf</td>\n",
       "      <td>{\"schema_name\":\"DoclingDocument\",\"version\":\"1....</td>\n",
       "      <td>5</td>\n",
       "      <td>0</td>\n",
       "      <td>48</td>\n",
       "      <td>058d5c86-4d02-434e-9c45-b431d6171e09</td>\n",
       "      <td>74198560999363607</td>\n",
       "      <td>pdf</td>\n",
       "      <td>63938f3cfc14037a64a9009e233fe982da6981002035c7...</td>\n",
       "      <td>35186</td>\n",
       "      <td>2024-11-24T08:49:26.795515</td>\n",
       "      <td>22.769895</td>\n",
       "      <td>redp5110-ch1.pdf</td>\n",
       "    </tr>\n",
       "  </tbody>\n",
       "</table>\n",
       "</div>"
      ],
      "text/plain": [
       "           filename                                           contents  \\\n",
       "0  redp5110-ch1.pdf  {\"schema_name\":\"DoclingDocument\",\"version\":\"1....   \n",
       "\n",
       "   num_pages  num_tables  num_doc_elements  \\\n",
       "0          5           0                48   \n",
       "\n",
       "                            document_id      document_hash  ext  \\\n",
       "0  058d5c86-4d02-434e-9c45-b431d6171e09  74198560999363607  pdf   \n",
       "\n",
       "                                                hash   size  \\\n",
       "0  63938f3cfc14037a64a9009e233fe982da6981002035c7...  35186   \n",
       "\n",
       "                date_acquired  pdf_convert_time   source_filename  \n",
       "0  2024-11-24T08:49:26.795515         22.769895  redp5110-ch1.pdf  "
      ]
     },
     "execution_count": 4,
     "metadata": {},
     "output_type": "execute_result"
    }
   ],
   "source": [
    "import pyarrow.parquet as pq\n",
    "import pandas as pd\n",
    "table = pq.read_table('output/redp5110-ch1.parquet')\n",
    "table.to_pandas()"
   ]
  },
  {
   "cell_type": "code",
   "execution_count": 5,
   "id": "cde6e37d-c437-490f-8e01-f4f51a123484",
   "metadata": {},
   "outputs": [],
   "source": [
    "#table.to_pandas()['contents'][0]"
   ]
  }
 ],
 "metadata": {
  "kernelspec": {
   "display_name": "Python 3 (ipykernel)",
   "language": "python",
   "name": "python3"
  },
  "language_info": {
   "codemirror_mode": {
    "name": "ipython",
    "version": 3
   },
   "file_extension": ".py",
   "mimetype": "text/x-python",
   "name": "python",
   "nbconvert_exporter": "python",
   "pygments_lexer": "ipython3",
   "version": "3.11.10"
  }
 },
 "nbformat": 4,
 "nbformat_minor": 5
}
