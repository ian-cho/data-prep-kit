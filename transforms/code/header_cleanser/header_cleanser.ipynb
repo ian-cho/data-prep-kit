{
 "cells": [
  {
   "cell_type": "markdown",
   "metadata": {},
   "source": [
    "***Header_cleanser Transform Sample Notebook***"
   ]
  },
  {
   "cell_type": "markdown",
   "metadata": {},
   "source": [
    "These pip installs need to be adapted to use the appropriate release level. Alternatively, The venv running the jupyter lab could be pre-configured with a requirement file that includes the right release. Example for transform developers working from git clone:\n",
    "\n",
    "make venv \\\n",
    "source venv/bin/activate \\\n",
    "pip install jupyterlab \\\n",
    "./python/venv/bin/jupyter lab"
   ]
  },
  {
   "cell_type": "code",
   "execution_count": 1,
   "metadata": {},
   "outputs": [],
   "source": [
    "%%capture\n",
    "# Users and application developers must use the right tag for the latest version from pypi\n",
    "!pip install scancode-toolkit\n",
    "!pip install data-prep-toolkit==0.2.2.dev2\n",
    "!pip install 'data-prep-toolkit-transforms[header_cleanser]==0.2.2.dev2'\n",
    "!pip install pandas"
   ]
  },
  {
   "cell_type": "markdown",
   "metadata": {},
   "source": [
    "### Configure the transform parameters. \n",
    "* Define the transform parameters required for processing. Below are the parameters specific to the Header Cleanser Transform: \n",
    "\n",
    "    * header_cleanser_contents_column_name: Column containing code to cleanse (default: contents).\n",
    "    * header_cleanser_copyright: Whether to remove copyright headers (default: True).\n",
    "    * header_cleanser_license: Whether to remove license headers (default: True)."
   ]
  },
  {
   "cell_type": "code",
   "execution_count": 2,
   "metadata": {},
   "outputs": [],
   "source": [
    "from data_processing.runtime.pure_python import PythonTransformLauncher\n",
    "from data_processing.utils import ParamsUtils\n",
    "from header_cleanser_transform_python import HeaderCleanserPythonTransformConfiguration"
   ]
  },
  {
   "cell_type": "markdown",
   "metadata": {},
   "source": [
    "***Specify input/output folders and parameters***"
   ]
  },
  {
   "cell_type": "code",
   "execution_count": 3,
   "metadata": {},
   "outputs": [],
   "source": [
    "# Input/output configuration\n",
    "local_conf = {\n",
    "    \"input_folder\": \"path/to/your/input/folder\",  # Adjust path for input files\n",
    "    \"output_folder\": \"path/to/your/output/folder\",  # Adjust path for output files\n",
    "}\n",
    "\n",
    "# Parameters for the transform\n",
    "params = {\n",
    "    \"data_local_config\": ParamsUtils.convert_to_ast(local_conf),\n",
    "    \"header_cleanser_contents_column_name\": \"contents\",\n",
    "    \"header_cleanser_copyright\": True,\n",
    "    \"header_cleanser_license\": True\n",
    "}"
   ]
  },
  {
   "cell_type": "markdown",
   "metadata": {},
   "source": [
    "***Invoke the header_cleanser transformation***\n",
    "* Launch the transform using the PythonTransformLauncher."
   ]
  },
  {
   "cell_type": "code",
   "execution_count": 4,
   "metadata": {},
   "outputs": [
    {
     "name": "stderr",
     "output_type": "stream",
     "text": [
      "11:05:41 INFO - pipeline id pipeline_id\n",
      "11:05:41 INFO - code location None\n",
      "11:05:41 INFO - data factory data_ is using local data access: input_folder - path/to/your/input/folder output_folder - path/to/your/output/folder\n",
      "11:05:41 INFO - data factory data_ max_files -1, n_sample -1\n",
      "11:05:41 INFO - data factory data_ Not using data sets, checkpointing False, max files -1, random samples -1, files to use ['.parquet'], files to checkpoint ['.parquet']\n",
      "11:05:41 INFO - orchestrator header_cleanser started at 2025-01-09 11:05:41\n",
      "11:05:41 ERROR - No input files to process - exiting\n",
      "11:05:41 INFO - Completed execution in 0.0 min, execution result 0\n"
     ]
    }
   ],
   "source": [
    "import sys\n",
    "sys.argv = ParamsUtils.dict_to_req(d=(params))  \n",
    "# create launcher\n",
    "launcher = PythonTransformLauncher(HeaderCleanserPythonTransformConfiguration())\n",
    "# launch\n",
    "return_code = launcher.launch()"
   ]
  },
  {
   "cell_type": "markdown",
   "metadata": {},
   "source": [
    "***Checking the output Parquet file***"
   ]
  },
  {
   "cell_type": "code",
   "execution_count": null,
   "metadata": {},
   "outputs": [
    {
     "data": {
      "text/html": [
       "<div>\n",
       "<style scoped>\n",
       "    .dataframe tbody tr th:only-of-type {\n",
       "        vertical-align: middle;\n",
       "    }\n",
       "\n",
       "    .dataframe tbody tr th {\n",
       "        vertical-align: top;\n",
       "    }\n",
       "\n",
       "    .dataframe thead th {\n",
       "        text-align: right;\n",
       "    }\n",
       "</style>\n",
       "<table border=\"1\" class=\"dataframe\">\n",
       "  <thead>\n",
       "    <tr style=\"text-align: right;\">\n",
       "      <th></th>\n",
       "      <th>contents</th>\n",
       "    </tr>\n",
       "  </thead>\n",
       "  <tbody>\n",
       "    <tr>\n",
       "      <th>0</th>\n",
       "      <td>&lt;?xml version=\"1.0\" encoding=\"UTF-8\"?&gt;\\n&lt;!--\\n...</td>\n",
       "    </tr>\n",
       "    <tr>\n",
       "      <th>1</th>\n",
       "      <td>/*\\n * Copyright 2018 Makoto Consulting Group,...</td>\n",
       "    </tr>\n",
       "    <tr>\n",
       "      <th>2</th>\n",
       "      <td>&lt;?xml version=\"1.0\" encoding=\"UTF-8\"?&gt;\\n\\n&lt;!--...</td>\n",
       "    </tr>\n",
       "    <tr>\n",
       "      <th>3</th>\n",
       "      <td>/*\\n   Copyright 2018 Makoto Consulting Group,...</td>\n",
       "    </tr>\n",
       "    <tr>\n",
       "      <th>4</th>\n",
       "      <td># Copyright 2016 The TensorFlow Authors. All R...</td>\n",
       "    </tr>\n",
       "    <tr>\n",
       "      <th>5</th>\n",
       "      <td>&lt;?xml version=\"1.0\" encoding=\"UTF-8\"?&gt;\\n\\n&lt;!--...</td>\n",
       "    </tr>\n",
       "    <tr>\n",
       "      <th>6</th>\n",
       "      <td>/*\\n * Licensed under the Apache License, Vers...</td>\n",
       "    </tr>\n",
       "    <tr>\n",
       "      <th>7</th>\n",
       "      <td>#! \\n#\\n# Script to run the DataCreator progra...</td>\n",
       "    </tr>\n",
       "    <tr>\n",
       "      <th>8</th>\n",
       "      <td>#!/bin/bash\\n\\n###############################...</td>\n",
       "    </tr>\n",
       "    <tr>\n",
       "      <th>9</th>\n",
       "      <td># Copyright IBM Corp. and others 2018\\n#\\n# Th...</td>\n",
       "    </tr>\n",
       "  </tbody>\n",
       "</table>\n",
       "</div>"
      ],
      "text/plain": [
       "                                            contents\n",
       "0  <?xml version=\"1.0\" encoding=\"UTF-8\"?>\\n<!--\\n...\n",
       "1  /*\\n * Copyright 2018 Makoto Consulting Group,...\n",
       "2  <?xml version=\"1.0\" encoding=\"UTF-8\"?>\\n\\n<!--...\n",
       "3  /*\\n   Copyright 2018 Makoto Consulting Group,...\n",
       "4  # Copyright 2016 The TensorFlow Authors. All R...\n",
       "5  <?xml version=\"1.0\" encoding=\"UTF-8\"?>\\n\\n<!--...\n",
       "6  /*\\n * Licensed under the Apache License, Vers...\n",
       "7  #! \\n#\\n# Script to run the DataCreator progra...\n",
       "8  #!/bin/bash\\n\\n###############################...\n",
       "9  # Copyright IBM Corp. and others 2018\\n#\\n# Th..."
      ]
     },
     "execution_count": 5,
     "metadata": {},
     "output_type": "execute_result"
    }
   ],
   "source": [
    "import pyarrow.parquet as pq\n",
    "import pandas as pd\n",
    "table = pq.read_table('path/to/your/output/folder/sample.parquet')\n",
    "table.to_pandas()"
   ]
  },
  {
   "cell_type": "code",
   "execution_count": 6,
   "metadata": {},
   "outputs": [
    {
     "data": {
      "text/plain": [
       "'<?xml version=\"1.0\" encoding=\"UTF-8\"?>\\n<!--\\nCopyright IBM Corp. and others 2006\\n\\nThis program and the accompanying materials are made available under\\nthe terms of the Eclipse Public License 2.0 which accompanies this\\ndistribution and is available at https://www.eclipse.org/legal/epl-2.0/\\nor the Apache License, Version 2.0 which accompanies this distribution and\\nis available at https://www.apache.org/licenses/LICENSE-2.0.\\n\\nThis Source Code may also be made available under the following\\nSecondary Licenses when the conditions for such availability set\\nforth in the Eclipse Public License, v. 2.0 are satisfied: GNU\\nGeneral Public License, version 2 with the GNU Classpath\\nException [1] and GNU General Public License, version 2 with the\\nOpenJDK Assembly Exception [2].\\n\\n[1] https://www.gnu.org/software/classpath/license.html\\n[2] https://openjdk.org/legal/assembly-exception.html\\n\\nSPDX-License-Identifier: EPL-2.0 OR Apache-2.0 OR GPL-2.0-only WITH Classpath-exception-2.0 OR GPL-2.0-only WITH OpenJDK-assembly-exception-1.0\\n-->\\n<spec xmlns:xsi=\"http://www.w3.org/2001/XMLSchema-instance\" xmlns=\"http://www.ibm.com/j9/builder/spec\" xsi:schemaLocation=\"http://www.ibm.com/j9/builder/spec spec-v1.xsd\" id=\"aix_ppc-64\">\\n\\t<name>AIX64</name>\\n\\t<asmBuilderName>AIX64</asmBuilderName>\\n\\t<cpuArchitecture>ppc</cpuArchitecture>\\n\\t<os>aix</os>\\n\\t<defaultJCL>Sidecar</defaultJCL>\\n\\t<defaultSizes>desktop (256M + big OS stack)</defaultSizes>\\n\\t<priority>100</priority>\\n\\t<owners>\\n\\t\\t<owner>paul_church@ca.ibm.com</owner>\\n\\t</owners>\\n\\t<properties>\\n\\t\\t<property name=\"SE6_extension\" value=\"tar.Z\"/>\\n\\t\\t<property name=\"SE6_package\" value=\"ap64\"/>\\n\\t\\t<property name=\"aotTarget\" value=\"ppc-aix64\"/>\\n\\t\\t<property name=\"directoryDelimiter\" value=\"/\"/>\\n\\t\\t<property name=\"graph_arch.cpu\" value=\"{$spec.arch.cpuISA$}\"/>\\n\\t\\t<property name=\"graph_commands.chroot\" value=\"\"/>\\n\\t\\t<property name=\"graph_commands.unix.remote_host\" value=\"\"/>\\n\\t\\t<property name=\"graph_datamines\" value=\"commands.unix.datamine,site-ottawa.datamine,use.local.datamine\"/>\\n\\t\\t<property name=\"graph_enable_compiler_cmd\" value=\"source {$buildinfo.fsroot.unixBin$}/platform/aix/set_xlc13_env &amp;&amp;\"/>\\n\\t\\t<property name=\"graph_label.classlib\" value=\"150\"/>\\n\\t\\t<property name=\"graph_label.java5\" value=\"j9vmap6424\"/>\\n\\t\\t<property name=\"graph_label.java6\" value=\"pap6460\"/>\\n\\t\\t<property name=\"graph_label.java60_26\" value=\"pap6460_26\"/>\\n\\t\\t<property name=\"graph_label.java6_rebuilt_extension\" value=\"zip\"/>\\n\\t\\t<property name=\"graph_label.java7\" value=\"pap6470\"/>\\n\\t\\t<property name=\"graph_label.java70_27\" value=\"pap6470_27\"/>\\n\\t\\t<property name=\"graph_label.java7_raw\" value=\"jdk-aix_ppc-64\"/>\\n\\t\\t<property name=\"graph_label.java8\" value=\"pap6480\"/>\\n\\t\\t<property name=\"graph_label.java9\" value=\"pap6490\"/>\\n\\t\\t<property name=\"graph_label.osid\" value=\"aix\"/>\\n\\t\\t<property name=\"graph_label.profile\" value=\"\"/>\\n\\t\\t<property name=\"graph_make_parallel_arg\" value=\"-j `numberOfCPUs`\"/>\\n\\t\\t<property name=\"graph_req.arch0\" value=\"arch:ppc\"/>\\n\\t\\t<property name=\"graph_req.arch1\" value=\"arch:64bit\"/>\\n\\t\\t<property name=\"graph_req.aux0\" value=\"\"/>\\n\\t\\t<property name=\"graph_req.aux1\" value=\"{$machine_mapping.64bit$}\"/>\\n\\t\\t<property name=\"graph_req.build\" value=\"{$common.req.build.java9$}\"/>\\n\\t\\t<property name=\"graph_req.build2\" value=\"{$common.req.build.java8$}\"/>\\n\\t\\t<property name=\"graph_req.machine\" value=\"\"/>\\n\\t\\t<property name=\"graph_req.machine.test\" value=\"{$spec.property.graph_req.aux0$}\"/>\\n\\t\\t<property name=\"graph_req.os\" value=\"{$machine_mapping.aix6.1+$}\"/>\\n\\t\\t<property name=\"graph_req.os.build\" value=\"{$machine_mapping.aix6.1$}\"/>\\n\\t\\t<property name=\"graph_req.os.perf\" value=\"\"/>\\n\\t\\t<property name=\"graph_se_classlib.java5\" value=\"jcl_se.zip\"/>\\n\\t\\t<property name=\"graph_se_classlib.java6\" value=\"jcl_se.zip\"/>\\n\\t\\t<property name=\"graph_variant.testing_suffix\" value=\"\"/>\\n\\t\\t<property name=\"graph_variant.trailingID\" value=\"\"/>\\n\\t\\t<property name=\"isReallyUnix\" value=\"true\"/>\\n\\t\\t<property name=\"j2seRuntimeDir\" value=\"jre/lib/ppc64\"/>\\n\\t\\t<property name=\"j2seTags\" value=\"pap6460,j9vmap6424\"/>\\n\\t\\t<property name=\"j9BuildName\" value=\"aix_ppc-64\"/>\\n\\t\\t<property name=\"j9dt.compileTarget\" value=\"makefile\"/>\\n\\t\\t<property name=\"j9dt.make\" value=\"gmake\"/>\\n\\t\\t<property name=\"j9dt.toolsTarget\" value=\"buildtools.mk\"/>\\n\\t\\t<property name=\"javatestPlatform\" value=\"aix_ppc-64\"/>\\n\\t\\t<property name=\"jclMemoryMax\" value=\"-Xmx64m\"/>\\n\\t\\t<property name=\"jclOSStackSizeMax\" value=\"\"/>\\n\\t\\t<property name=\"jgrinderTestingSupported\" value=\"true\"/>\\n\\t\\t<property name=\"jitTestingOptLevel\" value=\"optlevel=warm\"/>\\n\\t\\t<property name=\"localRootPath\" value=\"$(J9_UNIX_ROOT)\"/>\\n\\t\\t<property name=\"longLimitCmd\" value=\"\"/>\\n\\t\\t<property name=\"main_shortname\" value=\"ap64\"/>\\n\\t\\t<property name=\"os.lineDelimiter\" value=\"unix\"/>\\n\\t\\t<property name=\"platform_arch\" value=\"ppc64\"/>\\n\\t\\t<property name=\"sun.jdk7.platform_id\" value=\"aix-x64\"/>\\n\\t\\t<property name=\"svn_stream\" value=\"\"/>\\n\\t\\t<property name=\"uma_make_cmd_ar\" value=\"ar\"/>\\n\\t\\t<property name=\"uma_make_cmd_as\" value=\"as\"/>\\n\\t\\t<property name=\"uma_make_cmd_cc\" value=\"xlc_r\"/>\\n\\t\\t<property name=\"uma_make_cmd_cpp\" value=\"$(CC) -P\"/>\\n\\t\\t<property name=\"uma_make_cmd_cxx\" value=\"xlC_r\"/>\\n\\t\\t<property name=\"uma_make_cmd_cxx_dll_ld\" value=\"$(CXX)\"/>\\n\\t\\t<property name=\"uma_make_cmd_cxx_exe_ld\" value=\"$(CXX)\"/>\\n\\t\\t<property name=\"uma_make_cmd_dll_ld\" value=\"$(CC)\"/>\\n\\t\\t<property name=\"uma_make_cmd_exe_ld\" value=\"$(CC)\"/>\\n\\t\\t<property name=\"uma_make_cmd_ppc_gcc_cxx\" value=\"g++\"/>\\n\\t\\t<property name=\"uma_make_cmd_ranlib\" value=\"ranlib\"/>\\n\\t\\t<property name=\"uma_processor\" value=\"ppc\"/>\\n\\t\\t<property name=\"uma_type\" value=\"unix,aix\"/>\\n\\t</properties>\\n\\t<features>\\n\\t\\t<feature id=\"combogc\"/>\\n\\t\\t<feature id=\"core\"/>\\n\\t\\t<feature id=\"crypto\"/>\\n\\t\\t<feature id=\"dbgext\"/>\\n\\t\\t<feature id=\"se\"/>\\n\\t\\t<feature id=\"se60_26\"/>\\n\\t\\t<feature id=\"se7\"/>\\n\\t\\t<feature id=\"se70_27\"/>\\n\\t</features>\\n\\t<source>\\n\\t\\t<project id=\"com.ibm.jvmti.tests\"/>\\n\\t\\t<project id=\"compiler\"/>\\n\\t</source>\\n\\t<flags>\\n\\t\\t<flag id=\"interp_atomicFreeJni\" value=\"true\"/>\\n\\t\\t<flag id=\"interp_atomicFreeJniUsesFlush\" value=\"true\"/>\\n\\t\\t<flag id=\"interp_twoPassExclusive\" value=\"true\"/>\\n\\t\\t<flag id=\"arch_power\" value=\"true\"/>\\n\\t\\t<flag id=\"build_SE6_package\" value=\"true\"/>\\n\\t\\t<flag id=\"build_autobuild\" value=\"true\"/>\\n\\t\\t<flag id=\"build_dropToHursley\" value=\"true\"/>\\n\\t\\t<flag id=\"build_dropToToronto\" value=\"true\"/>\\n\\t\\t<flag id=\"build_j2se\" value=\"true\"/>\\n\\t\\t<flag id=\"build_java8\" value=\"true\"/>\\n\\t\\t<flag id=\"build_java9\" value=\"false\"/>\\n\\t\\t<flag id=\"build_product\" value=\"true\"/>\\n\\t\\t<flag id=\"build_stage_toronto_lab\" value=\"true\"/>\\n\\t\\t<flag id=\"build_vmContinuous\" value=\"true\"/>\\n\\t\\t<flag id=\"env_data64\" value=\"true\"/>\\n\\t\\t<flag id=\"env_dlpar\" value=\"true\"/>\\n\\t\\t<flag id=\"env_hasFPU\" value=\"true\"/>\\n\\t\\t<flag id=\"env_sharedLibsUseGlobalTable\" value=\"true\"/>\\n\\t\\t<flag id=\"gc_batchClearTLH\" value=\"true\"/>\\n\\t\\t<flag id=\"gc_debugAsserts\" value=\"true\"/>\\n\\t\\t<flag id=\"gc_inlinedAllocFields\" value=\"true\"/>\\n\\t\\t<flag id=\"gc_minimumObjectSize\" value=\"true\"/>\\n\\t\\t<flag id=\"gc_subpoolsAlias\" value=\"true\"/>\\n\\t\\t<flag id=\"graph_cmdLineTester\" value=\"true\"/>\\n\\t\\t<flag id=\"graph_compile\" value=\"true\"/>\\n\\t\\t<flag id=\"graph_enableTesting\" value=\"false\"/>\\n\\t\\t<flag id=\"graph_enableTesting_Java8\" value=\"true\"/>\\n\\t\\t<flag id=\"graph_includeThrstatetest\" value=\"true\"/>\\n\\t\\t<flag id=\"graph_j2seSanity\" value=\"true\"/>\\n\\t\\t<flag id=\"graph_jgrinder\" value=\"true\"/>\\n\\t\\t<flag id=\"graph_plumhall\" value=\"true\"/>\\n\\t\\t<flag id=\"graph_useJTCTestingPlaylist\" value=\"true\"/>\\n\\t\\t<flag id=\"graph_verification\" value=\"true\"/>\\n\\t\\t<flag id=\"interp_aotCompileSupport\" value=\"true\"/>\\n\\t\\t<flag id=\"interp_aotRuntimeSupport\" value=\"true\"/>\\n\\t\\t<flag id=\"interp_debugSupport\" value=\"true\"/>\\n\\t\\t<flag id=\"interp_enableJitOnDesktop\" value=\"true\"/>\\n\\t\\t<flag id=\"interp_flagsInClassSlot\" value=\"true\"/>\\n\\t\\t<flag id=\"interp_gpHandler\" value=\"true\"/>\\n\\t\\t<flag id=\"interp_growableStacks\" value=\"true\"/>\\n\\t\\t<flag id=\"interp_hotCodeReplacement\" value=\"true\"/>\\n\\t\\t<flag id=\"interp_nativeSupport\" value=\"true\"/>\\n\\t\\t<flag id=\"interp_profilingBytecodes\" value=\"true\"/>\\n\\t\\t<flag id=\"interp_sigQuitThread\" value=\"true\"/>\\n\\t\\t<flag id=\"interp_sigUsr2\" value=\"true\"/>\\n\\t\\t<flag id=\"interp_useUnsafeHelper\" value=\"true\"/>\\n\\t\\t<flag id=\"ive_jxeFileRelocator\" value=\"true\"/>\\n\\t\\t<flag id=\"ive_jxeInPlaceRelocator\" value=\"true\"/>\\n\\t\\t<flag id=\"ive_jxeNatives\" value=\"true\"/>\\n\\t\\t<flag id=\"ive_jxeOERelocator\" value=\"true\"/>\\n\\t\\t<flag id=\"ive_jxeStreamingRelocator\" value=\"true\"/>\\n\\t\\t<flag id=\"ive_romImageHelpers\" value=\"true\"/>\\n\\t\\t<flag id=\"jit_classUnloadRwmonitor\" value=\"true\"/>\\n\\t\\t<flag id=\"jit_dynamicLoopTransfer\" value=\"true\"/>\\n\\t\\t<flag id=\"jit_fullSpeedDebug\" value=\"true\"/>\\n\\t\\t<flag id=\"jit_gcOnResolveSupport\" value=\"true\"/>\\n\\t\\t<flag id=\"jit_needsTrampolines\" value=\"true\"/>\\n\\t\\t<flag id=\"jit_newDualHelpers\" value=\"true\"/>\\n\\t\\t<flag id=\"jit_newInstancePrototype\" value=\"true\"/>\\n\\t\\t<flag id=\"jit_requiresTrapHandler\" value=\"true\"/>\\n\\t\\t<flag id=\"jit_runtimeInstrumentation\" value=\"true\"/>\\n\\t\\t<flag id=\"jit_supportsDirectJNI\" value=\"true\"/>\\n\\t\\t<flag id=\"module_algorithm_test\" value=\"true\"/>\\n\\t\\t<flag id=\"module_bcutil\" value=\"true\"/>\\n\\t\\t<flag id=\"module_bcverify\" value=\"true\"/>\\n\\t\\t<flag id=\"module_cassume\" value=\"true\"/>\\n\\t\\t<flag id=\"module_cfdumper\" value=\"true\"/>\\n\\t\\t<flag id=\"module_codegen_common\" value=\"true\"/>\\n\\t\\t<flag id=\"module_codegen_comsched\" value=\"true\"/>\\n\\t\\t<flag id=\"module_codegen_ilgen\" value=\"true\"/>\\n\\t\\t<flag id=\"module_codegen_opt\" value=\"true\"/>\\n\\t\\t<flag id=\"module_codegen_ppc\" value=\"true\"/>\\n\\t\\t<flag id=\"module_codegen_sched\" value=\"true\"/>\\n\\t\\t<flag id=\"module_codert_common\" value=\"true\"/>\\n\\t\\t<flag id=\"module_codert_ppc\" value=\"true\"/>\\n\\t\\t<flag id=\"module_codert_vm\" value=\"true\"/>\\n\\t\\t<flag id=\"module_ddr\" value=\"true\"/>\\n\\t\\t<flag id=\"module_gptest\" value=\"true\"/>\\n\\t\\t<flag id=\"module_j9vm\" value=\"true\"/>\\n\\t\\t<flag id=\"module_j9vmtest\" value=\"true\"/>\\n\\t\\t<flag id=\"module_jextractnatives\" value=\"true\"/>\\n\\t\\t<flag id=\"module_jit_common\" value=\"true\"/>\\n\\t\\t<flag id=\"module_jit_ppc\" value=\"true\"/>\\n\\t\\t<flag id=\"module_jit_vm\" value=\"true\"/>\\n\\t\\t<flag id=\"module_jitrt_common\" value=\"true\"/>\\n\\t\\t<flag id=\"module_jitrt_ppc\" value=\"true\"/>\\n\\t\\t<flag id=\"module_jniargtests\" value=\"true\"/>\\n\\t\\t<flag id=\"module_jnichk\" value=\"true\"/>\\n\\t\\t<flag id=\"module_jniinv\" value=\"true\"/>\\n\\t\\t<flag id=\"module_jnitest\" value=\"true\"/>\\n\\t\\t<flag id=\"module_jvmti\" value=\"true\"/>\\n\\t\\t<flag id=\"module_jvmtitst\" value=\"true\"/>\\n\\t\\t<flag id=\"module_lifecycle_tests\" value=\"true\"/>\\n\\t\\t<flag id=\"module_porttest\" value=\"true\"/>\\n\\t\\t<flag id=\"module_rasdump\" value=\"true\"/>\\n\\t\\t<flag id=\"module_rastrace\" value=\"true\"/>\\n\\t\\t<flag id=\"module_shared\" value=\"true\"/>\\n\\t\\t<flag id=\"module_shared_common\" value=\"true\"/>\\n\\t\\t<flag id=\"module_shared_test\" value=\"true\"/>\\n\\t\\t<flag id=\"module_shared_util\" value=\"true\"/>\\n\\t\\t<flag id=\"module_verbose\" value=\"true\"/>\\n\\t\\t<flag id=\"module_zip\" value=\"true\"/>\\n\\t\\t<flag id=\"module_zlib\" value=\"true\"/>\\n\\t\\t<flag id=\"opt_annotations\" value=\"true\"/>\\n\\t\\t<flag id=\"opt_bigInteger\" value=\"true\"/>\\n\\t\\t<flag id=\"opt_debugInfoServer\" value=\"true\"/>\\n\\t\\t<flag id=\"opt_debugJsr45Support\" value=\"true\"/>\\n\\t\\t<flag id=\"opt_deprecatedMethods\" value=\"true\"/>\\n\\t\\t<flag id=\"opt_dynamicLoadSupport\" value=\"true\"/>\\n\\t\\t<flag id=\"opt_invariantInterning\" value=\"true\"/>\\n\\t\\t<flag id=\"opt_jvmti\" value=\"true\"/>\\n\\t\\t<flag id=\"opt_jxeLoadSupport\" value=\"true\"/>\\n\\t\\t<flag id=\"opt_memoryCheckSupport\" value=\"true\"/>\\n\\t\\t<flag id=\"opt_multiVm\" value=\"true\"/>\\n\\t\\t<flag id=\"opt_panama\" value=\"false\"/>\\n\\t\\t<flag id=\"opt_reflect\" value=\"true\"/>\\n\\t\\t<flag id=\"opt_sharedClasses\" value=\"true\"/>\\n\\t\\t<flag id=\"opt_sidecar\" value=\"true\"/>\\n\\t\\t<flag id=\"opt_srpAvlTreeSupport\" value=\"true\"/>\\n\\t\\t<flag id=\"opt_stringCompression\" value=\"true\"/>\\n\\t\\t<flag id=\"opt_useFfi\" value=\"true\"/>\\n\\t\\t<flag id=\"opt_useFfiOnly\" value=\"true\"/>\\n\\t\\t<flag id=\"opt_valhallaValueTypes\" value=\"false\"/>\\n\\t\\t<flag id=\"opt_valhallaFlattenableValueTypes\" value=\"false\"/>\\n\\t\\t<flag id=\"opt_zipSupport\" value=\"true\"/>\\n\\t\\t<flag id=\"opt_zlibCompression\" value=\"true\"/>\\n\\t\\t<flag id=\"opt_zlibSupport\" value=\"true\"/>\\n\\t\\t<flag id=\"port_omrsigSupport\" value=\"true\"/>\\n\\t\\t<flag id=\"port_runtimeInstrumentation\" value=\"true\"/>\\n\\t\\t<flag id=\"port_signalSupport\" value=\"true\"/>\\n\\t\\t<flag id=\"prof_eventReporting\" value=\"true\"/>\\n\\t\\t<flag id=\"size_optimizeSendTargets\" value=\"true\"/>\\n\\t\\t<flag id=\"test_cunit\" value=\"true\"/>\\n\\t\\t<flag id=\"test_jvmti\" value=\"true\"/>\\n\\t\\t<flag id=\"thr_lockNursery\" value=\"true\"/>\\n\\t\\t<flag id=\"thr_lockReservation\" value=\"true\"/>\\n\\t\\t<flag id=\"thr_smartDeflation\" value=\"true\"/>\\n\\t\\t<flag id=\"uma_gnuDebugSymbols\" value=\"true\"/>\\n\\t\\t<flag id=\"uma_supportsIpv6\" value=\"true\"/>\\n\\t</flags>\\n</spec>\\n'"
      ]
     },
     "execution_count": 6,
     "metadata": {},
     "output_type": "execute_result"
    }
   ],
   "source": [
    "table.to_pandas()['contents'][0]"
   ]
  },
  {
   "cell_type": "markdown",
   "metadata": {},
   "source": [
    "### Notes for Users and Developers\n",
    "1. Ensure that your input files are placed in the specified input_folder path.\n",
    "    * For sample input files, refer to the python/test-data/input folder.\n",
    "2. Use the latest tagged version from PyPI for stability.\n",
    "3. Transform parameters can be customized as per requirements. Update params accordingly."
   ]
  }
 ],
 "metadata": {
  "kernelspec": {
   "display_name": "venv",
   "language": "python",
   "name": "python3"
  },
  "language_info": {
   "codemirror_mode": {
    "name": "ipython",
    "version": 3
   },
   "file_extension": ".py",
   "mimetype": "text/x-python",
   "name": "python",
   "nbconvert_exporter": "python",
   "pygments_lexer": "ipython3",
   "version": "3.12.3"
  }
 },
 "nbformat": 4,
 "nbformat_minor": 2
}
