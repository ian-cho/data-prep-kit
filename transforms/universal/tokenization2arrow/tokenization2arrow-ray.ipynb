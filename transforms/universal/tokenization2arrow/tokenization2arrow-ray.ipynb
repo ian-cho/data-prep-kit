{
 "cells": [
  {
   "cell_type": "markdown",
   "id": "afd55886-5f5b-4794-838e-ef8179fb0394",
   "metadata": {},
   "source": [
    "##### **** These pip installs need to be adapted to use the appropriate release level. Alternatively, The venv running the jupyter lab could be pre-configured with a requirement file that includes the right release. Example for transform developers working from git clone:\n",
    "```\n",
    "cd tokenization2arrow\n",
    "make venv \n",
    "source venv/bin/activate \n",
    "pip install jupyterlab\n",
    "pip install -U ipywidgets\n",
    "./venv/bin/jupyter lab\n",
    "```"
   ]
  },
  {
   "cell_type": "markdown",
   "id": "407fd4e4-265d-4ec7-bbc9-b43158f5f1f3",
   "metadata": {},
   "source": [
    "##### **** Configure the transform parameters. The set of dictionary keys holding DocIDTransform configuration for values are as follows: \n",
    "| Name | Description|\n",
    "| -----|------------|\n",
    "|tkn_tokenizer | Tokenizer used for tokenization. It also can be a path to a pre-trained tokenizer. By defaut, `hf-internal-testing/llama-tokenizer` from HuggingFace is used |\n",
    "|tkn_tokenizer_args |Arguments for tokenizer. For example, `cache_dir=/tmp/hf,use_auth_token=Your_HF_authentication_token` could be arguments for tokenizer `bigcode/starcoder` from HuggingFace|\n",
    "|tkn_doc_id_column|Column contains document id which values should be unique across dataset|\n",
    "|tkn_doc_content_column|Column contains document content|\n",
    "|tkn_text_lang|Specify language used in the text content for better text splitting if needed|\n",
    "|tkn_chunk_size|Specify >0 value to tokenize each row/doc in chunks of characters (rounded in words)|\n",
    "```"
   ]
  },
  {
   "cell_type": "code",
   "execution_count": 3,
   "id": "9a2fff6b",
   "metadata": {},
   "outputs": [],
   "source": [
    "# Remove output folder\n",
    "!rm -rf output01"
   ]
  },
  {
   "cell_type": "code",
   "execution_count": 4,
   "id": "9669273a-8fcc-4b40-9b20-8df658e2ab58",
   "metadata": {},
   "outputs": [],
   "source": [
    "from dpk_tokenization2arrow.transform_ray import Tokenization2Arrow"
   ]
  },
  {
   "cell_type": "markdown",
   "id": "7234563c-2924-4150-8a31-4aec98c1bf33",
   "metadata": {},
   "source": [
    "##### ***** Setup runtime parameters for this transform"
   ]
  },
  {
   "cell_type": "code",
   "execution_count": 5,
   "id": "badafb96-64d2-4bb8-9f3e-b23713fd5c3f",
   "metadata": {},
   "outputs": [
    {
     "name": "stderr",
     "output_type": "stream",
     "text": [
      "22:39:47 INFO - pipeline id pipeline_id\n",
      "22:39:47 INFO - code location None\n",
      "22:39:47 INFO - number of workers 1 worker options {'num_cpus': 0.8, 'max_restarts': -1}\n",
      "22:39:47 INFO - actor creation delay 0\n",
      "22:39:47 INFO - job details {'job category': 'preprocessing', 'job name': 'Tokenization2Arrow', 'job type': 'ray', 'job id': 'job_id'}\n",
      "22:39:47 INFO - data factory data_ is using local data access: input_folder - test-data/ds01/input output_folder - output01\n",
      "22:39:47 INFO - data factory data_ max_files -1, n_sample -1\n",
      "22:39:47 INFO - data factory data_ Not using data sets, checkpointing False, max files -1, random samples -1, files to use ['.parquet'], files to checkpoint ['.parquet']\n",
      "22:39:47 INFO - Running locally\n",
      "2025-02-11 22:39:48,431\tINFO worker.py:1777 -- Started a local Ray instance. View the dashboard at \u001b[1m\u001b[32m127.0.0.1:8265 \u001b[39m\u001b[22m\n",
      "\u001b[36m(orchestrate pid=45135)\u001b[0m 22:39:51 INFO - orchestrator started at 2025-02-11 22:39:51\n",
      "\u001b[36m(orchestrate pid=45135)\u001b[0m 22:39:51 INFO - Number of files is 5, source profile {'max_file_size': 0.011751174926757812, 'min_file_size': 0.0024614334106445312, 'total_file_size': 0.031197547912597656}\n",
      "\u001b[36m(orchestrate pid=45135)\u001b[0m 22:39:51 INFO - Cluster resources: {'cpus': 10, 'gpus': 0, 'memory': 14.796653747558594, 'object_store': 2.0}\n",
      "\u001b[36m(orchestrate pid=45135)\u001b[0m 22:39:51 INFO - Number of workers - 1 with {'num_cpus': 0.8, 'max_restarts': -1} each\n",
      "\u001b[36m(RayTransformFileProcessor pid=45146)\u001b[0m You are using the default legacy behaviour of the <class 'transformers.models.llama.tokenization_llama_fast.LlamaTokenizerFast'>. This is expected, and simply means that the `legacy` (previous) behavior will be used so nothing changes for you. If you want to use the new behaviour, set `legacy=False`. This should only be set if you understand what it means, and thoroughly read the reason why this was added as explained in https://github.com/huggingface/transformers/pull/24565 - if you loaded a llama tokenizer from a GGUF file you can ignore this message.\n",
      "\u001b[36m(RayTransformFileProcessor pid=45146)\u001b[0m 22:39:53 INFO - Tokenizer config['tokenizer'] = 'hf-internal-testing/llama-tokenizer' loaded.\n",
      "\u001b[36m(orchestrate pid=45135)\u001b[0m 22:39:54 INFO - Completed 1 files in 0.001 min\n",
      "\u001b[36m(orchestrate pid=45135)\u001b[0m 22:39:54 INFO - Completed 2 files in 0.001 min\n",
      "\u001b[36m(orchestrate pid=45135)\u001b[0m 22:39:54 INFO - Completed 3 files in 0.001 min\n",
      "\u001b[36m(orchestrate pid=45135)\u001b[0m 22:39:54 INFO - Completed 4 files in 0.001 min\n",
      "\u001b[36m(orchestrate pid=45135)\u001b[0m 22:39:54 INFO - Completed 4 files (80.0%)  in 0.001 min. Waiting for completion\n",
      "\u001b[36m(orchestrate pid=45135)\u001b[0m 22:39:54 INFO - Completed processing 5 files in 0.001 min\n",
      "\u001b[36m(orchestrate pid=45135)\u001b[0m 22:39:54 INFO - done flushing in 0.0 sec\n",
      "\u001b[36m(RayTransformFileProcessor pid=45146)\u001b[0m 22:39:54 INFO - Tokenization2ArrowTransform.transform_binary file_name = '/Users/santoshborse/development/IBM/data-prep-kit/transforms/universal/tokenization2arrow/test-data/ds01/input/lang=en/dataset=cybersecurity_v2.0/version=2.3.2/pq03.snappy.parquet'\n",
      "\u001b[36m(RayTransformFileProcessor pid=45146)\u001b[0m 22:39:54 INFO - Tokenization2ArrowTransform.transform_binary file_name = '/Users/santoshborse/development/IBM/data-prep-kit/transforms/universal/tokenization2arrow/test-data/ds01/input/lang=en/dataset=empty/dpv08_cc01.snappy.parquet'\n",
      "\u001b[36m(RayTransformFileProcessor pid=45146)\u001b[0m 22:39:54 WARNING - table is empty, skipping processing\n",
      "\u001b[36m(RayTransformFileProcessor pid=45146)\u001b[0m 22:39:54 INFO - Tokenization2ArrowTransform.transform_binary file_name = '/Users/santoshborse/development/IBM/data-prep-kit/transforms/universal/tokenization2arrow/test-data/ds01/input/lang=en/dataset=empty/dpv08_cc02.snappy.parquet'\n",
      "\u001b[36m(RayTransformFileProcessor pid=45146)\u001b[0m 22:39:54 WARNING - table is empty, skipping processing\n",
      "\u001b[36m(RayTransformFileProcessor pid=45146)\u001b[0m 22:39:54 INFO - Tokenization2ArrowTransform.transform_binary file_name = '/Users/santoshborse/development/IBM/data-prep-kit/transforms/universal/tokenization2arrow/test-data/ds01/input/lang=en/pq01.parquet'\n",
      "\u001b[36m(RayTransformFileProcessor pid=45146)\u001b[0m 22:39:54 INFO - Tokenization2ArrowTransform.transform_binary file_name = '/Users/santoshborse/development/IBM/data-prep-kit/transforms/universal/tokenization2arrow/test-data/ds01/input/lang=en/pq02.parquet'\n",
      "22:40:04 INFO - Completed execution in 0.289 min, execution result 0\n"
     ]
    },
    {
     "data": {
      "text/plain": [
       "0"
      ]
     },
     "execution_count": 5,
     "metadata": {},
     "output_type": "execute_result"
    }
   ],
   "source": [
    "Tokenization2Arrow(input_folder= \"test-data/ds01/input\",\n",
    "        output_folder= \"output01\",\n",
    "        tkn_tokenizer=  \"hf-internal-testing/llama-tokenizer\",\n",
    "        run_locally= True,\n",
    "        tkn_chunk_size= 20_000).transform()"
   ]
  },
  {
   "cell_type": "markdown",
   "id": "c3df5adf-4717-4a03-864d-9151cd3f134b",
   "metadata": {},
   "source": [
    "### Explore output folder"
   ]
  },
  {
   "cell_type": "code",
   "execution_count": 7,
   "id": "9a594810-f07f-4920-a1c9-54844b384351",
   "metadata": {},
   "outputs": [
    {
     "name": "stdout",
     "output_type": "stream",
     "text": [
      "\u001b[01;34moutput01\u001b[0m\n",
      "├── \u001b[01;34mlang=en\u001b[0m\n",
      "│   ├── \u001b[01;34mdataset=cybersecurity_v2.0\u001b[0m\n",
      "│   │   └── \u001b[01;34mversion=2.3.2\u001b[0m\n",
      "│   │       └── \u001b[00mpq03.snappy.arrow\u001b[0m\n",
      "│   ├── \u001b[00mpq01.arrow\u001b[0m\n",
      "│   └── \u001b[00mpq02.arrow\u001b[0m\n",
      "├── \u001b[01;34mmeta\u001b[0m\n",
      "│   └── \u001b[01;34mlang=en\u001b[0m\n",
      "│       ├── \u001b[01;34mdataset=cybersecurity_v2.0\u001b[0m\n",
      "│       │   └── \u001b[01;34mversion=2.3.2\u001b[0m\n",
      "│       │       ├── \u001b[00mpq03.snappy.docs\u001b[0m\n",
      "│       │       └── \u001b[00mpq03.snappy.docs.ids\u001b[0m\n",
      "│       ├── \u001b[00mpq01.docs\u001b[0m\n",
      "│       ├── \u001b[00mpq01.docs.ids\u001b[0m\n",
      "│       ├── \u001b[00mpq02.docs\u001b[0m\n",
      "│       └── \u001b[00mpq02.docs.ids\u001b[0m\n",
      "└── \u001b[00mmetadata.json\u001b[0m\n",
      "\n",
      "8 directories, 10 files\n"
     ]
    }
   ],
   "source": [
    "!tree output01"
   ]
  },
  {
   "cell_type": "markdown",
   "id": "ac1088b5-f102-4718-9286-f4236e55c1b2",
   "metadata": {},
   "source": [
    "### Check metadata.json"
   ]
  },
  {
   "cell_type": "code",
   "execution_count": 8,
   "id": "845a75cf-f4a9-467d-87fa-ccbac1c9beb8",
   "metadata": {},
   "outputs": [
    {
     "name": "stdout",
     "output_type": "stream",
     "text": [
      "{\n",
      "  \"pipeline\": \"pipeline_id\",\n",
      "  \"job details\": {\n",
      "    \"job category\": \"preprocessing\",\n",
      "    \"job name\": \"Tokenization2Arrow\",\n",
      "    \"job type\": \"ray\",\n",
      "    \"job id\": \"job_id\",\n",
      "    \"start_time\": \"2025-02-11 22:39:51\",\n",
      "    \"end_time\": \"2025-02-11 22:39:54\",\n",
      "    \"status\": \"success\"\n",
      "  },\n",
      "  \"code\": null,\n",
      "  \"job_input_params\": {\n",
      "    \"tokenizer\": \"hf-internal-testing/llama-tokenizer\",\n",
      "    \"tokenizer_args\": null,\n",
      "    \"doc_id_column\": \"document_id\",\n",
      "    \"doc_content_column\": \"contents\",\n",
      "    \"text_lang\": \"en\",\n",
      "    \"chunk_size\": 20000,\n",
      "    \"checkpointing\": false,\n",
      "    \"max_files\": -1,\n",
      "    \"random_samples\": -1,\n",
      "    \"files_to_use\": [\n",
      "      \".parquet\"\n",
      "    ],\n",
      "    \"number of workers\": 1,\n",
      "    \"worker options\": {\n",
      "      \"num_cpus\": 0.8,\n",
      "      \"max_restarts\": -1\n",
      "    },\n",
      "    \"actor creation delay\": 0\n",
      "  },\n",
      "  \"execution_stats\": {\n",
      "    \"cpus\": 10,\n",
      "    \"gpus\": 0,\n",
      "    \"memory\": 14.796653747558594,\n",
      "    \"object_store\": 2.0,\n",
      "    \"execution time, min\": 0.055\n",
      "  },\n",
      "  \"job_output_stats\": {\n",
      "    \"source_files\": 5,\n",
      "    \"source_size\": 32713,\n",
      "    \"result_files\": 3,\n",
      "    \"result_size\": 2222,\n",
      "    \"processing_time\": 0.04,\n",
      "    \"num_files\": 3,\n",
      "    \"num_rows\": 6,\n",
      "    \"num_tokenized_rows\": 6,\n",
      "    \"num_empty_rows\": 0,\n",
      "    \"num_tokens\": 85,\n",
      "    \"num_chars\": 384,\n",
      "    \"skipped empty tables\": 2,\n",
      "    \"result_doc_count\": 0\n",
      "  },\n",
      "  \"source\": {\n",
      "    \"name\": \"/Users/santoshborse/development/IBM/data-prep-kit/transforms/universal/tokenization2arrow/test-data/ds01/input\",\n",
      "    \"type\": \"path\"\n",
      "  },\n",
      "  \"target\": {\n",
      "    \"name\": \"/Users/santoshborse/development/IBM/data-prep-kit/transforms/universal/tokenization2arrow/output01\",\n",
      "    \"type\": \"path\"\n",
      "  }\n",
      "}"
     ]
    }
   ],
   "source": [
    "!cat output01/metadata.json"
   ]
  },
  {
   "cell_type": "code",
   "execution_count": null,
   "id": "8efbf118-7480-4b5e-bf48-9022c5a1605d",
   "metadata": {},
   "outputs": [],
   "source": []
  }
 ],
 "metadata": {
  "kernelspec": {
   "display_name": "Python 3 (ipykernel)",
   "language": "python",
   "name": "python3"
  },
  "language_info": {
   "codemirror_mode": {
    "name": "ipython",
    "version": 3
   },
   "file_extension": ".py",
   "mimetype": "text/x-python",
   "name": "python",
   "nbconvert_exporter": "python",
   "pygments_lexer": "ipython3",
   "version": "3.10.9"
  }
 },
 "nbformat": 4,
 "nbformat_minor": 5
}
