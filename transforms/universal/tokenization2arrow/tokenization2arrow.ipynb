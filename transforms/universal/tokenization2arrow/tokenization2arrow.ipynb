{
 "cells": [
  {
   "cell_type": "markdown",
   "metadata": {
    "vscode": {
     "languageId": "plaintext"
    }
   },
   "source": [
    "##### **** These pip installs need to be adapted to use the appropriate release level. Alternatively, The venv running the jupyter lab could be pre-configured with a requirement file that includes the right release. Example for transform developers working from git clone:\n",
    "```\n",
    "cd tokenization2arrow\n",
    "make venv \n",
    "source venv/bin/activate \n",
    "pip install jupyterlab\n",
    "pip install -U ipywidgets\n",
    "./venv/bin/jupyter lab\n",
    "```"
   ]
  },
  {
   "cell_type": "markdown",
   "metadata": {},
   "source": [
    "##### **** Configure the transform parameters. The set of dictionary keys holding Tokenization2Arrow configuration for values are as follows: \n",
    "| Name | Description|\n",
    "| -----|------------|\n",
    "|tkn_tokenizer | Tokenizer used for tokenization. It also can be a path to a pre-trained tokenizer. By defaut, `hf-internal-testing/llama-tokenizer` from HuggingFace is used |\n",
    "|tkn_tokenizer_args |Arguments for tokenizer. For example, `cache_dir=/tmp/hf,use_auth_token=Your_HF_authentication_token` could be arguments for tokenizer `bigcode/starcoder` from HuggingFace|\n",
    "|tkn_doc_id_column|Column contains document id which values should be unique across dataset|\n",
    "|tkn_doc_content_column|Column contains document content|\n",
    "|tkn_text_lang|Specify language used in the text content for better text splitting if needed|\n",
    "|tkn_chunk_size|Specify >0 value to tokenize each row/doc in chunks of characters (rounded in words)|\n"
   ]
  },
  {
   "cell_type": "code",
   "execution_count": 1,
   "metadata": {},
   "outputs": [],
   "source": [
    "# Remove output folder\n",
    "!rm -rf output"
   ]
  },
  {
   "cell_type": "code",
   "execution_count": 2,
   "metadata": {},
   "outputs": [],
   "source": [
    "from dpk_tokenization2arrow.transform_python import Tokenization2Arrow"
   ]
  },
  {
   "cell_type": "code",
   "execution_count": 3,
   "metadata": {},
   "outputs": [
    {
     "name": "stderr",
     "output_type": "stream",
     "text": [
      "22:39:08 INFO - pipeline id pipeline_id\n",
      "22:39:08 INFO - code location None\n",
      "22:39:08 INFO - data factory data_ is using local data access: input_folder - test-data/ds02/input output_folder - output\n",
      "22:39:08 INFO - data factory data_ max_files -1, n_sample -1\n",
      "22:39:08 INFO - data factory data_ Not using data sets, checkpointing False, max files -1, random samples -1, files to use ['.parquet'], files to checkpoint ['.parquet']\n",
      "22:39:08 INFO - orchestrator Tokenization2Arrow started at 2025-02-11 22:39:08\n",
      "22:39:08 INFO - Number of files is 1, source profile {'max_file_size': 6.856490135192871, 'min_file_size': 6.856490135192871, 'total_file_size': 6.856490135192871}\n",
      "You are using the default legacy behaviour of the <class 'transformers.models.llama.tokenization_llama_fast.LlamaTokenizerFast'>. This is expected, and simply means that the `legacy` (previous) behavior will be used so nothing changes for you. If you want to use the new behaviour, set `legacy=False`. This should only be set if you understand what it means, and thoroughly read the reason why this was added as explained in https://github.com/huggingface/transformers/pull/24565 - if you loaded a llama tokenizer from a GGUF file you can ignore this message.\n",
      "22:39:09 INFO - Tokenizer config['tokenizer'] = 'hf-internal-testing/llama-tokenizer' loaded.\n",
      "22:39:09 INFO - Tokenization2ArrowTransform.transform_binary file_name = '/Users/santoshborse/development/IBM/data-prep-kit/transforms/universal/tokenization2arrow/test-data/ds02/input/df_17m.parquet'\n",
      "Token indices sequence length is longer than the specified maximum sequence length for this model (5256 > 2048). Running this sequence through the model will result in indexing errors\n",
      "22:39:21 INFO - Completed 1 files (100.0%) in 0.205 min\n",
      "22:39:21 INFO - Done processing 1 files, waiting for flush() completion.\n",
      "22:39:21 INFO - done flushing in 0.0 sec\n",
      "22:39:21 INFO - Completed execution in 0.211 min, execution result 0\n"
     ]
    },
    {
     "data": {
      "text/plain": [
       "0"
      ]
     },
     "execution_count": 3,
     "metadata": {},
     "output_type": "execute_result"
    }
   ],
   "source": [
    "Tokenization2Arrow(\n",
    "        input_folder= \"test-data/ds02/input\",\n",
    "        output_folder= \"output\",\n",
    "        tkn_tokenizer=  \"hf-internal-testing/llama-tokenizer\",\n",
    "        tkn_chunk_size= 20_000).transform()"
   ]
  },
  {
   "cell_type": "markdown",
   "metadata": {},
   "source": [
    "### Explore output folder"
   ]
  },
  {
   "cell_type": "code",
   "execution_count": 4,
   "metadata": {},
   "outputs": [
    {
     "name": "stdout",
     "output_type": "stream",
     "text": [
      "\u001b[01;34moutput\u001b[0m\n",
      "├── \u001b[00mdf_17m.arrow\u001b[0m\n",
      "├── \u001b[01;34mmeta\u001b[0m\n",
      "│   ├── \u001b[00mdf_17m.docs\u001b[0m\n",
      "│   └── \u001b[00mdf_17m.docs.ids\u001b[0m\n",
      "└── \u001b[00mmetadata.json\u001b[0m\n",
      "\n",
      "2 directories, 4 files\n"
     ]
    },
    {
     "name": "stderr",
     "output_type": "stream",
     "text": [
      "huggingface/tokenizers: The current process just got forked, after parallelism has already been used. Disabling parallelism to avoid deadlocks...\n",
      "To disable this warning, you can either:\n",
      "\t- Avoid using `tokenizers` before the fork if possible\n",
      "\t- Explicitly set the environment variable TOKENIZERS_PARALLELISM=(true | false)\n"
     ]
    }
   ],
   "source": [
    "!tree output"
   ]
  },
  {
   "cell_type": "markdown",
   "metadata": {},
   "source": [
    "### Check metadata.json"
   ]
  },
  {
   "cell_type": "code",
   "execution_count": 5,
   "metadata": {},
   "outputs": [
    {
     "name": "stdout",
     "output_type": "stream",
     "text": [
      "{\n",
      "  \"pipeline\": \"pipeline_id\",\n",
      "  \"job details\": {\n",
      "    \"job category\": \"preprocessing\",\n",
      "    \"job name\": \"Tokenization2Arrow\",\n",
      "    \"job type\": \"pure python\",\n",
      "    \"job id\": \"job_id\",\n",
      "    \"start_time\": \"2025-02-11 22:39:08\",\n",
      "    \"end_time\": \"2025-02-11 22:39:21\",\n",
      "    \"status\": \"success\"\n",
      "  },\n",
      "  \"code\": null,\n",
      "  \"job_input_params\": {\n",
      "    \"tokenizer\": \"hf-internal-testing/llama-tokenizer\",\n",
      "    \"tokenizer_args\": null,\n",
      "    \"doc_id_column\": \"document_id\",\n",
      "    \"doc_content_column\": \"contents\",\n",
      "    \"text_lang\": \"en\",\n",
      "    \"chunk_size\": 20000,\n",
      "    \"checkpointing\": false,\n",
      "    \"max_files\": -1,\n",
      "    \"random_samples\": -1,\n",
      "    \"files_to_use\": [\n",
      "      \".parquet\"\n",
      "    ],\n",
      "    \"num_processors\": 0\n",
      "  },\n",
      "  \"execution_stats\": {\n",
      "    \"cpus\": 154.6,\n",
      "    \"gpus\": 0,\n",
      "    \"memory\": 13.08,\n",
      "    \"object_store\": 0,\n",
      "    \"execution time, min\": 0.211\n",
      "  },\n",
      "  \"job_output_stats\": {\n",
      "    \"source_files\": 1,\n",
      "    \"source_size\": 7189551,\n",
      "    \"result_files\": 1,\n",
      "    \"result_size\": 18555330,\n",
      "    \"processing_time\": 12.309,\n",
      "    \"num_files\": 1,\n",
      "    \"num_rows\": 1,\n",
      "    \"num_tokenized_rows\": 1,\n",
      "    \"num_empty_rows\": 0,\n",
      "    \"num_tokens\": 4638717,\n",
      "    \"num_chars\": 16836009,\n",
      "    \"result_doc_count\": 0\n",
      "  },\n",
      "  \"source\": {\n",
      "    \"name\": \"/Users/santoshborse/development/IBM/data-prep-kit/transforms/universal/tokenization2arrow/test-data/ds02/input\",\n",
      "    \"type\": \"path\"\n",
      "  },\n",
      "  \"target\": {\n",
      "    \"name\": \"/Users/santoshborse/development/IBM/data-prep-kit/transforms/universal/tokenization2arrow/output\",\n",
      "    \"type\": \"path\"\n",
      "  }\n",
      "}"
     ]
    },
    {
     "name": "stderr",
     "output_type": "stream",
     "text": [
      "huggingface/tokenizers: The current process just got forked, after parallelism has already been used. Disabling parallelism to avoid deadlocks...\n",
      "To disable this warning, you can either:\n",
      "\t- Avoid using `tokenizers` before the fork if possible\n",
      "\t- Explicitly set the environment variable TOKENIZERS_PARALLELISM=(true | false)\n"
     ]
    }
   ],
   "source": [
    "!cat output/metadata.json"
   ]
  },
  {
   "cell_type": "code",
   "execution_count": null,
   "metadata": {},
   "outputs": [],
   "source": []
  }
 ],
 "metadata": {
  "kernelspec": {
   "display_name": "Python 3 (ipykernel)",
   "language": "python",
   "name": "python3"
  },
  "language_info": {
   "codemirror_mode": {
    "name": "ipython",
    "version": 3
   },
   "file_extension": ".py",
   "mimetype": "text/x-python",
   "name": "python",
   "nbconvert_exporter": "python",
   "pygments_lexer": "ipython3",
   "version": "3.10.9"
  }
 },
 "nbformat": 4,
 "nbformat_minor": 4
}
