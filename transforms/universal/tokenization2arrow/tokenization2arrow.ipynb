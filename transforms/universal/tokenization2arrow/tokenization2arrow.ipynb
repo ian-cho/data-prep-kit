{
 "cells": [
  {
   "cell_type": "markdown",
   "metadata": {
    "vscode": {
     "languageId": "plaintext"
    }
   },
   "source": [
    "##### **** These pip installs need to be adapted to use the appropriate release level. Alternatively, The venv running the jupyter lab could be pre-configured with a requirement file that includes the right release. Example for transform developers working from git clone:\n",
    "```\n",
    "cd tokenization2arrow\n",
    "make venv \n",
    "source venv/bin/activate \n",
    "pip install jupyterlab\n",
    "./venv/bin/jupyter-notebook \n",
    "```"
   ]
  },
  {
   "cell_type": "code",
   "execution_count": 3,
   "metadata": {},
   "outputs": [
    {
     "name": "stdout",
     "output_type": "stream",
     "text": [
      "Requirement already satisfied: data-prep-toolkit-transforms[tokenization] in ./venv/lib/python3.10/site-packages (1.0.0)\n",
      "Requirement already satisfied: data-prep-toolkit>=0.2.3 in ./venv/lib/python3.10/site-packages (from data-prep-toolkit-transforms[tokenization]) (0.2.4.dev0)\n",
      "Requirement already satisfied: transformers>=4.38.2 in ./venv/lib/python3.10/site-packages (from data-prep-toolkit-transforms[tokenization]) (4.48.3)\n",
      "Requirement already satisfied: numpy<1.29.0 in ./venv/lib/python3.10/site-packages (from data-prep-toolkit>=0.2.3->data-prep-toolkit-transforms[tokenization]) (1.26.4)\n",
      "Requirement already satisfied: pyarrow==16.1.0 in ./venv/lib/python3.10/site-packages (from data-prep-toolkit>=0.2.3->data-prep-toolkit-transforms[tokenization]) (16.1.0)\n",
      "Requirement already satisfied: boto3==1.34.69 in ./venv/lib/python3.10/site-packages (from data-prep-toolkit>=0.2.3->data-prep-toolkit-transforms[tokenization]) (1.34.69)\n",
      "Collecting argparse (from data-prep-toolkit>=0.2.3->data-prep-toolkit-transforms[tokenization])\n",
      "  Using cached argparse-1.4.0-py2.py3-none-any.whl.metadata (2.8 kB)\n",
      "Requirement already satisfied: mmh3 in ./venv/lib/python3.10/site-packages (from data-prep-toolkit>=0.2.3->data-prep-toolkit-transforms[tokenization]) (5.1.0)\n",
      "Requirement already satisfied: psutil in ./venv/lib/python3.10/site-packages (from data-prep-toolkit>=0.2.3->data-prep-toolkit-transforms[tokenization]) (6.1.1)\n",
      "Requirement already satisfied: polars>=1.9.0 in ./venv/lib/python3.10/site-packages (from data-prep-toolkit>=0.2.3->data-prep-toolkit-transforms[tokenization]) (1.22.0)\n",
      "Requirement already satisfied: botocore<1.35.0,>=1.34.69 in ./venv/lib/python3.10/site-packages (from boto3==1.34.69->data-prep-toolkit>=0.2.3->data-prep-toolkit-transforms[tokenization]) (1.34.162)\n",
      "Requirement already satisfied: jmespath<2.0.0,>=0.7.1 in ./venv/lib/python3.10/site-packages (from boto3==1.34.69->data-prep-toolkit>=0.2.3->data-prep-toolkit-transforms[tokenization]) (1.0.1)\n",
      "Requirement already satisfied: s3transfer<0.11.0,>=0.10.0 in ./venv/lib/python3.10/site-packages (from boto3==1.34.69->data-prep-toolkit>=0.2.3->data-prep-toolkit-transforms[tokenization]) (0.10.4)\n",
      "Requirement already satisfied: filelock in ./venv/lib/python3.10/site-packages (from transformers>=4.38.2->data-prep-toolkit-transforms[tokenization]) (3.17.0)\n",
      "Requirement already satisfied: huggingface-hub<1.0,>=0.24.0 in ./venv/lib/python3.10/site-packages (from transformers>=4.38.2->data-prep-toolkit-transforms[tokenization]) (0.28.1)\n",
      "Requirement already satisfied: packaging>=20.0 in ./venv/lib/python3.10/site-packages (from transformers>=4.38.2->data-prep-toolkit-transforms[tokenization]) (24.2)\n",
      "Requirement already satisfied: pyyaml>=5.1 in ./venv/lib/python3.10/site-packages (from transformers>=4.38.2->data-prep-toolkit-transforms[tokenization]) (6.0.2)\n",
      "Requirement already satisfied: regex!=2019.12.17 in ./venv/lib/python3.10/site-packages (from transformers>=4.38.2->data-prep-toolkit-transforms[tokenization]) (2024.11.6)\n",
      "Requirement already satisfied: requests in ./venv/lib/python3.10/site-packages (from transformers>=4.38.2->data-prep-toolkit-transforms[tokenization]) (2.32.3)\n",
      "Requirement already satisfied: tokenizers<0.22,>=0.21 in ./venv/lib/python3.10/site-packages (from transformers>=4.38.2->data-prep-toolkit-transforms[tokenization]) (0.21.0)\n",
      "Requirement already satisfied: safetensors>=0.4.1 in ./venv/lib/python3.10/site-packages (from transformers>=4.38.2->data-prep-toolkit-transforms[tokenization]) (0.5.2)\n",
      "Requirement already satisfied: tqdm>=4.27 in ./venv/lib/python3.10/site-packages (from transformers>=4.38.2->data-prep-toolkit-transforms[tokenization]) (4.67.1)\n",
      "Requirement already satisfied: fsspec>=2023.5.0 in ./venv/lib/python3.10/site-packages (from huggingface-hub<1.0,>=0.24.0->transformers>=4.38.2->data-prep-toolkit-transforms[tokenization]) (2025.2.0)\n",
      "Requirement already satisfied: typing-extensions>=3.7.4.3 in ./venv/lib/python3.10/site-packages (from huggingface-hub<1.0,>=0.24.0->transformers>=4.38.2->data-prep-toolkit-transforms[tokenization]) (4.12.2)\n",
      "Requirement already satisfied: charset-normalizer<4,>=2 in ./venv/lib/python3.10/site-packages (from requests->transformers>=4.38.2->data-prep-toolkit-transforms[tokenization]) (3.4.1)\n",
      "Requirement already satisfied: idna<4,>=2.5 in ./venv/lib/python3.10/site-packages (from requests->transformers>=4.38.2->data-prep-toolkit-transforms[tokenization]) (3.10)\n",
      "Requirement already satisfied: urllib3<3,>=1.21.1 in ./venv/lib/python3.10/site-packages (from requests->transformers>=4.38.2->data-prep-toolkit-transforms[tokenization]) (2.3.0)\n",
      "Requirement already satisfied: certifi>=2017.4.17 in ./venv/lib/python3.10/site-packages (from requests->transformers>=4.38.2->data-prep-toolkit-transforms[tokenization]) (2025.1.31)\n",
      "Requirement already satisfied: python-dateutil<3.0.0,>=2.1 in ./venv/lib/python3.10/site-packages (from botocore<1.35.0,>=1.34.69->boto3==1.34.69->data-prep-toolkit>=0.2.3->data-prep-toolkit-transforms[tokenization]) (2.9.0.post0)\n",
      "Requirement already satisfied: six>=1.5 in ./venv/lib/python3.10/site-packages (from python-dateutil<3.0.0,>=2.1->botocore<1.35.0,>=1.34.69->boto3==1.34.69->data-prep-toolkit>=0.2.3->data-prep-toolkit-transforms[tokenization]) (1.17.0)\n",
      "Using cached argparse-1.4.0-py2.py3-none-any.whl (23 kB)\n",
      "Installing collected packages: argparse\n",
      "Successfully installed argparse-1.4.0\n"
     ]
    }
   ],
   "source": [
    "#%%capture\n",
    "## This is here as a reference only\n",
    "# Users and application developers must use the right tag for the latest from pypi\n",
    "!pip install 'data-prep-toolkit-transforms[tokenization]'"
   ]
  },
  {
   "cell_type": "code",
   "execution_count": 11,
   "metadata": {},
   "outputs": [
    {
     "name": "stderr",
     "output_type": "stream",
     "text": [
      "huggingface/tokenizers: The current process just got forked, after parallelism has already been used. Disabling parallelism to avoid deadlocks...\n",
      "To disable this warning, you can either:\n",
      "\t- Avoid using `tokenizers` before the fork if possible\n",
      "\t- Explicitly set the environment variable TOKENIZERS_PARALLELISM=(true | false)\n"
     ]
    }
   ],
   "source": [
    "# Remove output folder\n",
    "!rm -rf output"
   ]
  },
  {
   "cell_type": "code",
   "execution_count": 12,
   "metadata": {},
   "outputs": [],
   "source": [
    "from dpk_tokenization2arrow.transform_python import Tokenization2Arrow"
   ]
  },
  {
   "cell_type": "code",
   "execution_count": 13,
   "metadata": {},
   "outputs": [
    {
     "name": "stderr",
     "output_type": "stream",
     "text": [
      "13:59:39 INFO - pipeline id pipeline_id\n",
      "13:59:39 INFO - code location None\n",
      "13:59:39 INFO - data factory data_ is using local data access: input_folder - test-data/ds02/input output_folder - output\n",
      "13:59:39 INFO - data factory data_ max_files -1, n_sample -1\n",
      "13:59:39 INFO - data factory data_ Not using data sets, checkpointing False, max files -1, random samples -1, files to use ['.parquet'], files to checkpoint ['.parquet']\n",
      "13:59:39 INFO - orchestrator Tokenization2Arrow started at 2025-02-11 13:59:39\n",
      "13:59:39 INFO - Number of files is 1, source profile {'max_file_size': 6.856490135192871, 'min_file_size': 6.856490135192871, 'total_file_size': 6.856490135192871}\n",
      "13:59:39 INFO - Tokenizer config['tokenizer'] = 'hf-internal-testing/llama-tokenizer' loaded.\n",
      "13:59:39 INFO - Tokenization2ArrowTransform.transform_binary file_name = '/Users/santoshborse/development/IBM/data-prep-kit/transforms/universal/tokenization2arrow/test-data/ds02/input/df_17m.parquet'\n",
      "Token indices sequence length is longer than the specified maximum sequence length for this model (5256 > 2048). Running this sequence through the model will result in indexing errors\n",
      "13:59:51 INFO - Completed 1 files (100.0%) in 0.201 min\n",
      "13:59:51 INFO - Done processing 1 files, waiting for flush() completion.\n",
      "13:59:51 INFO - done flushing in 0.0 sec\n",
      "13:59:51 INFO - Completed execution in 0.203 min, execution result 0\n"
     ]
    },
    {
     "data": {
      "text/plain": [
       "0"
      ]
     },
     "execution_count": 13,
     "metadata": {},
     "output_type": "execute_result"
    }
   ],
   "source": [
    "Tokenization2Arrow(\n",
    "        input_folder= \"test-data/ds02/input\",\n",
    "        output_folder= \"output\",\n",
    "        tkn_tokenizer=  \"hf-internal-testing/llama-tokenizer\",\n",
    "        tkn_chunk_size= 20_000).transform()"
   ]
  },
  {
   "cell_type": "markdown",
   "metadata": {},
   "source": [
    "### Explore output folder"
   ]
  },
  {
   "cell_type": "code",
   "execution_count": 14,
   "metadata": {},
   "outputs": [
    {
     "name": "stdout",
     "output_type": "stream",
     "text": [
      "\u001b[01;34moutput\u001b[0m\n",
      "├── \u001b[00mdf_17m.arrow\u001b[0m\n",
      "├── \u001b[01;34mmeta\u001b[0m\n",
      "│   ├── \u001b[00mdf_17m.docs\u001b[0m\n",
      "│   └── \u001b[00mdf_17m.docs.ids\u001b[0m\n",
      "└── \u001b[00mmetadata.json\u001b[0m\n",
      "\n",
      "2 directories, 4 files\n"
     ]
    },
    {
     "name": "stderr",
     "output_type": "stream",
     "text": [
      "huggingface/tokenizers: The current process just got forked, after parallelism has already been used. Disabling parallelism to avoid deadlocks...\n",
      "To disable this warning, you can either:\n",
      "\t- Avoid using `tokenizers` before the fork if possible\n",
      "\t- Explicitly set the environment variable TOKENIZERS_PARALLELISM=(true | false)\n"
     ]
    }
   ],
   "source": [
    "!tree output"
   ]
  },
  {
   "cell_type": "markdown",
   "metadata": {},
   "source": [
    "### Check metadata"
   ]
  },
  {
   "cell_type": "code",
   "execution_count": 9,
   "metadata": {},
   "outputs": [
    {
     "name": "stdout",
     "output_type": "stream",
     "text": [
      "{\n",
      "  \"pipeline\": \"pipeline_id\",\n",
      "  \"job details\": {\n",
      "    \"job category\": \"preprocessing\",\n",
      "    \"job name\": \"Tokenization2Arrow\",\n",
      "    \"job type\": \"pure python\",\n",
      "    \"job id\": \"job_id\",\n",
      "    \"start_time\": \"2025-02-11 13:56:47\",\n",
      "    \"end_time\": \"2025-02-11 13:57:00\",\n",
      "    \"status\": \"success\"\n",
      "  },\n",
      "  \"code\": null,\n",
      "  \"job_input_params\": {\n",
      "    \"tokenizer\": \"hf-internal-testing/llama-tokenizer\",\n",
      "    \"tokenizer_args\": null,\n",
      "    \"doc_id_column\": \"document_id\",\n",
      "    \"doc_content_column\": \"contents\",\n",
      "    \"text_lang\": \"en\",\n",
      "    \"chunk_size\": 20000,\n",
      "    \"checkpointing\": false,\n",
      "    \"max_files\": -1,\n",
      "    \"random_samples\": -1,\n",
      "    \"files_to_use\": [\n",
      "      \".parquet\"\n",
      "    ],\n",
      "    \"num_processors\": 0\n",
      "  },\n",
      "  \"execution_stats\": {\n",
      "    \"cpus\": 78.0,\n",
      "    \"gpus\": 0,\n",
      "    \"memory\": 10.77,\n",
      "    \"object_store\": 0,\n",
      "    \"execution time, min\": 0.214\n",
      "  },\n",
      "  \"job_output_stats\": {\n",
      "    \"source_files\": 1,\n",
      "    \"source_size\": 7189551,\n",
      "    \"result_files\": 1,\n",
      "    \"result_size\": 18555330,\n",
      "    \"processing_time\": 12.415,\n",
      "    \"num_files\": 1,\n",
      "    \"num_rows\": 1,\n",
      "    \"num_tokenized_rows\": 1,\n",
      "    \"num_empty_rows\": 0,\n",
      "    \"num_tokens\": 4638717,\n",
      "    \"num_chars\": 16836009,\n",
      "    \"result_doc_count\": 0\n",
      "  },\n",
      "  \"source\": {\n",
      "    \"name\": \"/Users/santoshborse/development/IBM/data-prep-kit/transforms/universal/tokenization2arrow/test-data/ds02/input\",\n",
      "    \"type\": \"path\"\n",
      "  },\n",
      "  \"target\": {\n",
      "    \"name\": \"/Users/santoshborse/development/IBM/data-prep-kit/transforms/universal/tokenization2arrow/output\",\n",
      "    \"type\": \"path\"\n",
      "  }\n",
      "}"
     ]
    },
    {
     "name": "stderr",
     "output_type": "stream",
     "text": [
      "huggingface/tokenizers: The current process just got forked, after parallelism has already been used. Disabling parallelism to avoid deadlocks...\n",
      "To disable this warning, you can either:\n",
      "\t- Avoid using `tokenizers` before the fork if possible\n",
      "\t- Explicitly set the environment variable TOKENIZERS_PARALLELISM=(true | false)\n"
     ]
    }
   ],
   "source": [
    "!cat output/metadata.json"
   ]
  },
  {
   "cell_type": "code",
   "execution_count": null,
   "metadata": {},
   "outputs": [],
   "source": []
  }
 ],
 "metadata": {
  "kernelspec": {
   "display_name": "Python 3 (ipykernel)",
   "language": "python",
   "name": "python3"
  },
  "language_info": {
   "codemirror_mode": {
    "name": "ipython",
    "version": 3
   },
   "file_extension": ".py",
   "mimetype": "text/x-python",
   "name": "python",
   "nbconvert_exporter": "python",
   "pygments_lexer": "ipython3",
   "version": "3.10.9"
  }
 },
 "nbformat": 4,
 "nbformat_minor": 4
}
