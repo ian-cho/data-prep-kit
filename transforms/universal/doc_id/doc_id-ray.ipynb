{
 "cells": [
  {
   "cell_type": "markdown",
   "id": "afd55886-5f5b-4794-838e-ef8179fb0394",
   "metadata": {},
   "source": [
    "##### **** These pip installs need to be adapted to use the appropriate release level. Alternatively, The venv running the jupyter lab could be pre-configured with a requirement file that includes the right release. Example for transform developers working from git clone:\n",
    "```\n",
    "make venv \n",
    "source venv/bin/activate \n",
    "pip install jupyterlab\n",
    "```"
   ]
  },
  {
   "cell_type": "code",
   "execution_count": null,
   "id": "4c45c3c6-e4d7-4e61-8de6-32d61f2ce695",
   "metadata": {},
   "outputs": [],
   "source": [
    "%%capture\n",
    "## This is here as a reference only\n",
    "# Users and application developers must use the right tag for the latest from pypi\n",
    "%pip install data-prep-toolkit[ray]\n",
    "%pip install data-prep-toolkit-transforms[doc_id]"
   ]
  },
  {
   "cell_type": "markdown",
   "id": "407fd4e4-265d-4ec7-bbc9-b43158f5f1f3",
   "metadata": {
    "jp-MarkdownHeadingCollapsed": true
   },
   "source": [
    "##### **** Configure the transform parameters. The set of dictionary keys holding DocIDTransform configuration for values are as follows: \n",
    "* doc_column - specifies name of the column containing the document (required for ID generation)\n",
    "* hash_column - specifies name of the column created to hold the string document id, if None, id is not generated\n",
    "* int_id_column - specifies name of the column created to hold the integer document id, if None, id is not generated\n",
    "* start_id - an id from which ID generator starts () "
   ]
  },
  {
   "cell_type": "markdown",
   "id": "ebf1f782-0e61-485c-8670-81066beb734c",
   "metadata": {},
   "source": [
    "##### ***** Import required classes and modules"
   ]
  },
  {
   "cell_type": "code",
   "execution_count": 1,
   "id": "9669273a-8fcc-4b40-9b20-8df658e2ab58",
   "metadata": {},
   "outputs": [
    {
     "name": "stderr",
     "output_type": "stream",
     "text": [
      "2024-12-12 15:01:10,711\tINFO util.py:154 -- Missing packages: ['ipywidgets']. Run `pip install -U ipywidgets`, then restart the notebook server for rich notebook output.\n"
     ]
    }
   ],
   "source": [
    "from dpk_doc_id.ray.transform import DocID"
   ]
  },
  {
   "cell_type": "markdown",
   "id": "7234563c-2924-4150-8a31-4aec98c1bf33",
   "metadata": {},
   "source": [
    "##### ***** Setup runtime parameters for this transform"
   ]
  },
  {
   "cell_type": "code",
   "execution_count": 2,
   "id": "badafb96-64d2-4bb8-9f3e-b23713fd5c3f",
   "metadata": {},
   "outputs": [
    {
     "name": "stderr",
     "output_type": "stream",
     "text": [
      "15:01:11 INFO - Doc id parameters are : {'doc_column': 'contents', 'hash_column': 'hash_column', 'int_column': 'int_id_column', 'start_id': 5}\n",
      "15:01:11 INFO - pipeline id pipeline_id\n",
      "15:01:11 INFO - code location None\n",
      "15:01:11 INFO - number of workers 1 worker options {'num_cpus': 0.8, 'max_restarts': -1}\n",
      "15:01:11 INFO - actor creation delay 0\n",
      "15:01:11 INFO - job details {'job category': 'preprocessing', 'job name': 'doc_id', 'job type': 'ray', 'job id': 'job_id'}\n",
      "15:01:11 INFO - data factory data_ is using local data access: input_folder - test-data/input output_folder - output\n",
      "15:01:11 INFO - data factory data_ max_files -1, n_sample -1\n",
      "15:01:11 INFO - data factory data_ Not using data sets, checkpointing False, max files -1, random samples -1, files to use ['.parquet'], files to checkpoint ['.parquet']\n",
      "15:01:11 INFO - Running locally\n",
      "2024-12-12 15:01:18,744\tINFO worker.py:1777 -- Started a local Ray instance. View the dashboard at \u001b[1m\u001b[32mhttp://127.0.0.1:8265 \u001b[39m\u001b[22m\n",
      "\u001b[36m(orchestrate pid=85413)\u001b[0m 15:01:20 INFO - orchestrator started at 2024-12-12 15:01:20\n",
      "\u001b[36m(orchestrate pid=85413)\u001b[0m 15:01:20 INFO - Number of files is 1, source profile {'max_file_size': 0.034458160400390625, 'min_file_size': 0.034458160400390625, 'total_file_size': 0.034458160400390625}\n",
      "\u001b[36m(orchestrate pid=85413)\u001b[0m 15:01:20 INFO - Cluster resources: {'cpus': 12, 'gpus': 0, 'memory': 13.119487762451172, 'object_store': 2.0}\n",
      "\u001b[36m(orchestrate pid=85413)\u001b[0m 15:01:20 INFO - Number of workers - 1 with {'num_cpus': 0.8, 'max_restarts': -1} each\n",
      "\u001b[36m(orchestrate pid=85413)\u001b[0m 15:01:23 INFO - Completed 0 files (0.0%)  in 0.0 min. Waiting for completion\n",
      "\u001b[36m(orchestrate pid=85413)\u001b[0m 15:01:23 INFO - Completed processing 1 files in 0.001 min\n",
      "\u001b[36m(orchestrate pid=85413)\u001b[0m 15:01:23 INFO - done flushing in 0.001 sec\n",
      "15:01:33 INFO - Completed execution in 0.36 min, execution result 0\n"
     ]
    },
    {
     "data": {
      "text/plain": [
       "0"
      ]
     },
     "execution_count": 2,
     "metadata": {},
     "output_type": "execute_result"
    }
   ],
   "source": [
    "DocID(input_folder= \"test-data/input\",\n",
    "        output_folder= \"output\",\n",
    "        run_locally= True,\n",
    "        doc_id_doc_column= \"contents\",\n",
    "        doc_id_hash_column= \"hash_column\",\n",
    "        doc_id_int_column= \"int_id_column\",\n",
    "        doc_id_start_id= 5).transform()"
   ]
  },
  {
   "cell_type": "markdown",
   "id": "7949f66a-d207-45ef-9ad7-ad9406f8d42a",
   "metadata": {},
   "source": [
    "##### ***** Use python runtime to invoke the transform"
   ]
  },
  {
   "cell_type": "markdown",
   "id": "c3df5adf-4717-4a03-864d-9151cd3f134b",
   "metadata": {},
   "source": [
    "##### **** The specified folder will include the transformed parquet files."
   ]
  },
  {
   "cell_type": "code",
   "execution_count": 3,
   "id": "7276fe84-6512-4605-ab65-747351e13a7c",
   "metadata": {},
   "outputs": [
    {
     "data": {
      "text/plain": [
       "['output/sample1.parquet', 'output/metadata.json']"
      ]
     },
     "execution_count": 3,
     "metadata": {},
     "output_type": "execute_result"
    }
   ],
   "source": [
    "import glob\n",
    "glob.glob(\"output/*\")"
   ]
  },
  {
   "cell_type": "code",
   "execution_count": null,
   "id": "845a75cf-f4a9-467d-87fa-ccbac1c9beb8",
   "metadata": {},
   "outputs": [],
   "source": []
  }
 ],
 "metadata": {
  "kernelspec": {
   "display_name": "Python 3 (ipykernel)",
   "language": "python",
   "name": "python3"
  },
  "language_info": {
   "codemirror_mode": {
    "name": "ipython",
    "version": 3
   },
   "file_extension": ".py",
   "mimetype": "text/x-python",
   "name": "python",
   "nbconvert_exporter": "python",
   "pygments_lexer": "ipython3",
   "version": "3.11.10"
  }
 },
 "nbformat": 4,
 "nbformat_minor": 5
}
