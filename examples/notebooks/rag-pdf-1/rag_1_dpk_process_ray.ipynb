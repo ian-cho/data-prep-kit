{
 "cells": [
  {
   "cell_type": "markdown",
   "id": "841e533d-ebb3-406d-9da7-b19e2c5f5866",
   "metadata": {},
   "source": [
    "<div style=\"background-color: #04D7FD; padding: 20px; text-align: left;\">\n",
    "    <h1 style=\"color: #000000; font-size: 36px; margin: 0;\">Data Processing for RAG with Data Prep Kit (RAY)</h1>\n",
    "    \n",
    "</div>\n"
   ]
  },
  {
   "cell_type": "markdown",
   "id": "b15976e3",
   "metadata": {},
   "source": [
    "## Before Running the notebook\n",
    "\n",
    "Please complete [setting up python dev environment](./setup-python-dev-env.md)"
   ]
  },
  {
   "cell_type": "markdown",
   "id": "053ecf08-5f62-4b99-9347-8a0955843d21",
   "metadata": {},
   "source": [
    "## Overview\n",
    "\n",
    "This notebook will process PDF documents as part of RAG pipeline\n",
    "\n",
    "![](media/rag-overview-2.png)\n",
    "\n",
    "This notebook will perform steps 1, 2 and 3 in RAG pipeline.\n",
    "\n",
    "Here are the processing steps:\n",
    "\n",
    "Here are the processing steps:\n",
    "\n",
    "- **pdf2parquet** : Extract text (in markdown format) from PDF and store them as parquet files\n",
    "- **Exact Dedup**: Documents with exact content are filtered out\n",
    "- **Chunk documents**: Split the PDFs into 'meaningful sections' (paragraphs, sentences ..etc)\n",
    "- **Text encoder**: Convert chunks into vectors using embedding models"
   ]
  },
  {
   "cell_type": "markdown",
   "id": "e8b10be1",
   "metadata": {},
   "source": [
    "## Step-1: Configuration"
   ]
  },
  {
   "cell_type": "code",
   "execution_count": 1,
   "id": "33345487",
   "metadata": {},
   "outputs": [
    {
     "name": "stdout",
     "output_type": "stream",
     "text": [
      "Ray configuration: CPUs=0.5,   memory=2 GB,  workers=2\n"
     ]
    }
   ],
   "source": [
    "import os\n",
    "from my_config import MY_CONFIG\n",
    "\n",
    "## RAY CONFIGURATION\n",
    "num_cpus_available =  os.cpu_count()\n",
    "# print (num_cpus_available)\n",
    "# MY_CONFIG.RAY_NUM_CPUS = num_cpus_available // 2  ## use half the available cores for processing\n",
    "MY_CONFIG.RAY_NUM_CPUS =  0.5\n",
    "MY_CONFIG.RAY_MEMORY_GB = 2  # GB\n",
    "# MY_CONFIG.RAY_RUNTIME_WORKERS = num_cpus_available // 3\n",
    "MY_CONFIG.RAY_RUNTIME_WORKERS = 2\n",
    "\n",
    "print (f\"Ray configuration: CPUs={MY_CONFIG.RAY_NUM_CPUS},   memory={MY_CONFIG.RAY_MEMORY_GB} GB,  workers={MY_CONFIG.RAY_RUNTIME_WORKERS}\")"
   ]
  },
  {
   "cell_type": "markdown",
   "id": "40c58856",
   "metadata": {},
   "source": [
    "## Step-2:  Data\n",
    "\n",
    "We will use white papers  about LLMs.  \n",
    "\n",
    "- [Granite Code Models](https://arxiv.org/abs/2405.04324)\n",
    "- [Attention is all you need](https://arxiv.org/abs/1706.03762)\n",
    "\n",
    "You can of course substite your own data below"
   ]
  },
  {
   "cell_type": "markdown",
   "id": "6bce5939",
   "metadata": {},
   "source": [
    "### 2.1 - Download data"
   ]
  },
  {
   "cell_type": "code",
   "execution_count": 2,
   "id": "1bfde6eb",
   "metadata": {},
   "outputs": [
    {
     "name": "stdout",
     "output_type": "stream",
     "text": [
      "✅ Cleared input directory\n",
      "\n",
      "input/attention.pdf (2.22 MB) downloaded successfully.\n",
      "\n",
      "input/granite.pdf (1.27 MB) downloaded successfully.\n",
      "\n",
      "input/granite2.pdf (1.27 MB) downloaded successfully.\n"
     ]
    }
   ],
   "source": [
    "import os, sys\n",
    "import shutil\n",
    "from utils import download_file\n",
    "\n",
    "shutil.rmtree(MY_CONFIG.INPUT_DATA_DIR, ignore_errors=True)\n",
    "shutil.os.makedirs(MY_CONFIG.INPUT_DATA_DIR, exist_ok=True)\n",
    "print (\"✅ Cleared input directory\")\n",
    " \n",
    "download_file (url = 'https://arxiv.org/pdf/1706.03762', local_file = os.path.join(MY_CONFIG.INPUT_DATA_DIR, 'attention.pdf' ))\n",
    "download_file (url = 'https://arxiv.org/pdf/2405.04324', local_file = os.path.join(MY_CONFIG.INPUT_DATA_DIR, 'granite.pdf' ))\n",
    "download_file (url = 'https://arxiv.org/pdf/2405.04324', local_file = os.path.join(MY_CONFIG.INPUT_DATA_DIR, 'granite2.pdf' )) # duplicate\n"
   ]
  },
  {
   "cell_type": "markdown",
   "id": "72510ae6-48b0-4b88-9e13-a623281c3a63",
   "metadata": {},
   "source": [
    "### 2.2  - Set input/output path variables for the pipeline"
   ]
  },
  {
   "cell_type": "code",
   "execution_count": 3,
   "id": "60ac8bee-0960-4309-b225-d7a211b14262",
   "metadata": {},
   "outputs": [
    {
     "name": "stdout",
     "output_type": "stream",
     "text": [
      "✅ Cleared output directory\n"
     ]
    }
   ],
   "source": [
    "import os, sys\n",
    "import shutil\n",
    "\n",
    "if not os.path.exists(MY_CONFIG.INPUT_DATA_DIR ):\n",
    "    raise Exception (f\"❌ Input folder MY_CONFIG.INPUT_DATA_DIR = '{MY_CONFIG.INPUT_DATA_DIR}' not found\")\n",
    "\n",
    "output_parquet_dir = os.path.join (MY_CONFIG.OUTPUT_FOLDER, '01_parquet_out')\n",
    "output_exact_dedupe_dir = os.path.join (MY_CONFIG.OUTPUT_FOLDER, '02_dedupe_out')\n",
    "output_chunk_dir = os.path.join (MY_CONFIG.OUTPUT_FOLDER, '03_chunk_out')\n",
    "output_embeddings_dir = os.path.join (MY_CONFIG.OUTPUT_FOLDER, '04_embeddings_out')\n",
    "\n",
    "\n",
    "## clear output folder\n",
    "shutil.rmtree(MY_CONFIG.OUTPUT_FOLDER, ignore_errors=True)\n",
    "shutil.os.makedirs(MY_CONFIG.OUTPUT_FOLDER, exist_ok=True)\n",
    "\n",
    "print (\"✅ Cleared output directory\")"
   ]
  },
  {
   "cell_type": "markdown",
   "id": "2449e5c7-078c-4ad6-a2f6-21d39d4da3fb",
   "metadata": {},
   "source": [
    "## Step-3: pdf2parquet -  Convert data from PDF to Parquet\n",
    "\n",
    "This step is reading the input folder containing all PDF files and ingest them in a parquet table using the [Docling package](https://github.com/DS4SD/docling).\n",
    "The documents are converted into a JSON format which allows to easily chunk it in the later steps.\n",
    "\n"
   ]
  },
  {
   "cell_type": "markdown",
   "id": "9bb15f02-ab5c-4525-a536-cfa1fd2ba70b",
   "metadata": {},
   "source": [
    "### 3.1 -  Execute "
   ]
  },
  {
   "cell_type": "code",
   "execution_count": 4,
   "id": "d940a56a",
   "metadata": {},
   "outputs": [
    {
     "name": "stdout",
     "output_type": "stream",
     "text": [
      "🏃🏼 STAGE-1: Processing input='input' --> output='output/01_parquet_out'\n",
      "\n"
     ]
    },
    {
     "name": "stderr",
     "output_type": "stream",
     "text": [
      "22:47:52 INFO - pdf2parquet parameters are : {'batch_size': -1, 'artifacts_path': None, 'contents_type': <pdf2parquet_contents_types.MARKDOWN: 'text/markdown'>, 'do_table_structure': True, 'do_ocr': True, 'ocr_engine': <pdf2parquet_ocr_engine.EASYOCR: 'easyocr'>, 'bitmap_area_threshold': 0.05, 'pdf_backend': <pdf2parquet_pdf_backend.DLPARSE_V2: 'dlparse_v2'>, 'double_precision': 8}\n",
      "22:47:52 INFO - pipeline id pipeline_id\n",
      "22:47:52 INFO - code location None\n",
      "22:47:52 INFO - number of workers 2 worker options {'num_cpus': 0.5, 'memory': 2147483648, 'max_restarts': -1}\n",
      "22:47:52 INFO - actor creation delay 0\n",
      "22:47:52 INFO - job details {'job category': 'preprocessing', 'job name': 'pdf2parquet', 'job type': 'ray', 'job id': 'job_id'}\n",
      "22:47:52 INFO - data factory data_ is using local data access: input_folder - input output_folder - output/01_parquet_out\n",
      "22:47:52 INFO - data factory data_ max_files -1, n_sample -1\n",
      "22:47:52 INFO - data factory data_ Not using data sets, checkpointing False, max files -1, random samples -1, files to use ['.pdf'], files to checkpoint ['.parquet']\n",
      "22:47:52 INFO - Running locally\n",
      "2025-01-19 22:47:53,502\tINFO worker.py:1777 -- Started a local Ray instance. View the dashboard at \u001b[1m\u001b[32mhttp://127.0.0.1:8265 \u001b[39m\u001b[22m\n",
      "\u001b[36m(orchestrate pid=1161876)\u001b[0m 22:47:57 INFO - orchestrator started at 2025-01-19 22:47:57\n",
      "\u001b[36m(orchestrate pid=1161876)\u001b[0m 22:47:57 INFO - Number of files is 3, source profile {'max_file_size': 2.112621307373047, 'min_file_size': 1.2146415710449219, 'total_file_size': 4.541904449462891}\n",
      "\u001b[36m(orchestrate pid=1161876)\u001b[0m 22:47:57 INFO - Cluster resources: {'cpus': 16, 'gpus': 1, 'memory': 7.521201325580478, 'object_store': 3.7606006618589163}\n",
      "\u001b[36m(orchestrate pid=1161876)\u001b[0m 22:47:57 INFO - Number of workers - 2 with {'num_cpus': 0.5, 'memory': 2147483648, 'max_restarts': -1} each\n",
      "\u001b[36m(RayTransformFileProcessor pid=1162792)\u001b[0m 22:48:01 INFO - Initializing models\n",
      "Fetching 9 files: 100%|██████████| 9/9 [00:00<00:00, 180615.96it/s]\n",
      "\u001b[36m(RayTransformFileProcessor pid=1162792)\u001b[0m Neither CUDA nor MPS are available - defaulting to CPU. Note: This module is much faster with a GPU.\n"
     ]
    },
    {
     "name": "stdout",
     "output_type": "stream",
     "text": [
      "\u001b[36m(RayTransformFileProcessor pid=1162792)\u001b[0m ERR#: COULD NOT CONVERT TO RS THIS TABLE TO COMPUTE SPANS\n"
     ]
    },
    {
     "name": "stderr",
     "output_type": "stream",
     "text": [
      "\u001b[36m(orchestrate pid=1161876)\u001b[0m 22:48:57 INFO - Completed 1 files in 0.807 min\n",
      "\u001b[36m(orchestrate pid=1161876)\u001b[0m 22:48:57 INFO - Completed 1 files (33.333%)  in 0.807 min. Waiting for completion\n",
      "\u001b[36m(RayTransformFileProcessor pid=1162791)\u001b[0m 22:48:01 INFO - Initializing models\n",
      "Fetching 9 files: 100%|██████████| 9/9 [00:00<00:00, 69391.06it/s]\n",
      "\u001b[36m(RayTransformFileProcessor pid=1162791)\u001b[0m Neither CUDA nor MPS are available - defaulting to CPU. Note: This module is much faster with a GPU.\n",
      "\u001b[36m(orchestrate pid=1161876)\u001b[0m 22:51:42 INFO - Completed processing 3 files in 3.571 min\n",
      "\u001b[36m(orchestrate pid=1161876)\u001b[0m 22:51:42 INFO - done flushing in 0.001 sec\n",
      "22:51:52 INFO - Completed execution in 4.009 min, execution result 0\n"
     ]
    },
    {
     "name": "stdout",
     "output_type": "stream",
     "text": [
      "✅ Stage:1 completed successfully\n",
      "CPU times: user 4.25 s, sys: 783 ms, total: 5.03 s\n",
      "Wall time: 4min 5s\n"
     ]
    }
   ],
   "source": [
    "%%time \n",
    "\n",
    "from dpk_pdf2parquet.ray.transform import Pdf2Parquet\n",
    "from data_processing.utils import GB\n",
    "from dpk_pdf2parquet.transform import pdf2parquet_contents_types\n",
    "\n",
    "STAGE = 1 \n",
    "print (f\"🏃🏼 STAGE-{STAGE}: Processing input='{MY_CONFIG.INPUT_DATA_DIR}' --> output='{output_parquet_dir}'\\n\", flush=True)\n",
    "\n",
    "result = Pdf2Parquet(input_folder= MY_CONFIG.INPUT_DATA_DIR,\n",
    "                    output_folder= output_parquet_dir, \n",
    "                    data_files_to_use=['.pdf'],\n",
    "                    pdf2parquet_contents_type=pdf2parquet_contents_types.MARKDOWN,\n",
    "                    # pdf2parquet_contents_type=pdf2parquet_contents_types.JSON,\n",
    "                    \n",
    "                    ## runtime options\n",
    "                    run_locally= True,\n",
    "                    num_cpus= MY_CONFIG.RAY_NUM_CPUS,\n",
    "                    memory= MY_CONFIG.RAY_MEMORY_GB * GB,\n",
    "                    runtime_num_workers = MY_CONFIG.RAY_RUNTIME_WORKERS,\n",
    "\n",
    "                    ## debug\n",
    "                    # num_cpus=  1, \n",
    "                    # memory= MY_CONFIG.RAY_MEMORY_GB * GB, \n",
    "                    # runtime_num_workers = 1, ## Note: has to be one for this particular job, to prevent race condition when downloading models!\n",
    "               ).transform()\n",
    "\n",
    "if result == 0:\n",
    "    print (f\"✅ Stage:{STAGE} completed successfully\")\n",
    "else:\n",
    "    raise Exception (f\"❌ Stage:{STAGE}  failed\")"
   ]
  },
  {
   "cell_type": "markdown",
   "id": "5ca790e0",
   "metadata": {},
   "source": [
    "### 3.2 - Inspect Generated output\n",
    "\n",
    "Here we should see one entry per input file processed"
   ]
  },
  {
   "cell_type": "code",
   "execution_count": 5,
   "id": "fe59563d",
   "metadata": {},
   "outputs": [
    {
     "data": {
      "text/html": [
       "<div>\n",
       "<style scoped>\n",
       "    .dataframe tbody tr th:only-of-type {\n",
       "        vertical-align: middle;\n",
       "    }\n",
       "\n",
       "    .dataframe tbody tr th {\n",
       "        vertical-align: top;\n",
       "    }\n",
       "\n",
       "    .dataframe thead th {\n",
       "        text-align: right;\n",
       "    }\n",
       "</style>\n",
       "<table border=\"1\" class=\"dataframe\">\n",
       "  <thead>\n",
       "    <tr style=\"text-align: right;\">\n",
       "      <th></th>\n",
       "      <th>filename</th>\n",
       "      <th>contents</th>\n",
       "      <th>num_pages</th>\n",
       "      <th>num_tables</th>\n",
       "      <th>num_doc_elements</th>\n",
       "      <th>document_id</th>\n",
       "      <th>document_hash</th>\n",
       "      <th>ext</th>\n",
       "      <th>hash</th>\n",
       "      <th>size</th>\n",
       "      <th>date_acquired</th>\n",
       "      <th>pdf_convert_time</th>\n",
       "      <th>source_filename</th>\n",
       "    </tr>\n",
       "  </thead>\n",
       "  <tbody>\n",
       "    <tr>\n",
       "      <th>0</th>\n",
       "      <td>attention.pdf</td>\n",
       "      <td>Provided proper attribution is provided, Googl...</td>\n",
       "      <td>15</td>\n",
       "      <td>6</td>\n",
       "      <td>147</td>\n",
       "      <td>0677706d-c587-4ddc-a52d-7ed12b082cbe</td>\n",
       "      <td>2949302674760005271</td>\n",
       "      <td>pdf</td>\n",
       "      <td>f1f600333e46c5d7e23f5a110a903ee38aab0bf7047eca...</td>\n",
       "      <td>46040</td>\n",
       "      <td>2025-01-19T22:48:56.992519</td>\n",
       "      <td>48.361864</td>\n",
       "      <td>attention.pdf</td>\n",
       "    </tr>\n",
       "    <tr>\n",
       "      <th>1</th>\n",
       "      <td>granite2.pdf</td>\n",
       "      <td>## Granite Code Models: A Family of Open Found...</td>\n",
       "      <td>28</td>\n",
       "      <td>19</td>\n",
       "      <td>295</td>\n",
       "      <td>ab9c2476-0e95-4b0e-84c9-1efab49761de</td>\n",
       "      <td>3127757990743433032</td>\n",
       "      <td>pdf</td>\n",
       "      <td>0534b6a29ab9cedf21c3f6cf756cf0252d19a8e9135a41...</td>\n",
       "      <td>127678</td>\n",
       "      <td>2025-01-19T22:51:42.875845</td>\n",
       "      <td>165.833343</td>\n",
       "      <td>granite2.pdf</td>\n",
       "    </tr>\n",
       "    <tr>\n",
       "      <th>2</th>\n",
       "      <td>granite.pdf</td>\n",
       "      <td>## Granite Code Models: A Family of Open Found...</td>\n",
       "      <td>28</td>\n",
       "      <td>19</td>\n",
       "      <td>295</td>\n",
       "      <td>20953ad1-8227-4454-8b20-c412f5520185</td>\n",
       "      <td>3127757990743433032</td>\n",
       "      <td>pdf</td>\n",
       "      <td>0534b6a29ab9cedf21c3f6cf756cf0252d19a8e9135a41...</td>\n",
       "      <td>127678</td>\n",
       "      <td>2025-01-19T22:50:57.694515</td>\n",
       "      <td>169.037999</td>\n",
       "      <td>granite.pdf</td>\n",
       "    </tr>\n",
       "  </tbody>\n",
       "</table>\n",
       "</div>"
      ],
      "text/plain": [
       "        filename                                           contents  \\\n",
       "0  attention.pdf  Provided proper attribution is provided, Googl...   \n",
       "1   granite2.pdf  ## Granite Code Models: A Family of Open Found...   \n",
       "2    granite.pdf  ## Granite Code Models: A Family of Open Found...   \n",
       "\n",
       "   num_pages  num_tables  num_doc_elements  \\\n",
       "0         15           6               147   \n",
       "1         28          19               295   \n",
       "2         28          19               295   \n",
       "\n",
       "                            document_id        document_hash  ext  \\\n",
       "0  0677706d-c587-4ddc-a52d-7ed12b082cbe  2949302674760005271  pdf   \n",
       "1  ab9c2476-0e95-4b0e-84c9-1efab49761de  3127757990743433032  pdf   \n",
       "2  20953ad1-8227-4454-8b20-c412f5520185  3127757990743433032  pdf   \n",
       "\n",
       "                                                hash    size  \\\n",
       "0  f1f600333e46c5d7e23f5a110a903ee38aab0bf7047eca...   46040   \n",
       "1  0534b6a29ab9cedf21c3f6cf756cf0252d19a8e9135a41...  127678   \n",
       "2  0534b6a29ab9cedf21c3f6cf756cf0252d19a8e9135a41...  127678   \n",
       "\n",
       "                date_acquired  pdf_convert_time source_filename  \n",
       "0  2025-01-19T22:48:56.992519         48.361864   attention.pdf  \n",
       "1  2025-01-19T22:51:42.875845        165.833343    granite2.pdf  \n",
       "2  2025-01-19T22:50:57.694515        169.037999     granite.pdf  "
      ]
     },
     "execution_count": 5,
     "metadata": {},
     "output_type": "execute_result"
    }
   ],
   "source": [
    "from utils import read_parquet_files_as_df\n",
    "\n",
    "output_df = read_parquet_files_as_df(output_parquet_dir)\n",
    "# print (\"Output dimensions (rows x columns)= \", output_df.shape)\n",
    "output_df.head(5)\n",
    "## To display certain columns\n",
    "#parquet_df[['column1', 'column2', 'column3']].head(5)"
   ]
  },
  {
   "cell_type": "markdown",
   "id": "8c54f1d7",
   "metadata": {},
   "source": [
    "## Step-4: Eliminate Duplicate Documents\n",
    "\n",
    "We have 2 duplicate documnets here : `granite.pdf` and `granite2.pdf`.\n",
    "\n",
    "Note how the `hash` for these documents are same.\n",
    "\n",
    "We are going to perform **de-dupe**\n",
    "\n",
    "On the content of each document, a SHA256 hash is computed, followed by de-duplication of record having identical hashes.\n",
    "\n",
    "[Dedupe transform documentation](https://github.com/IBM/data-prep-kit/blob/dev/transforms/universal/ededup/README.md)"
   ]
  },
  {
   "cell_type": "markdown",
   "id": "5133e8b7",
   "metadata": {},
   "source": [
    "### 4.1 - Execute "
   ]
  },
  {
   "cell_type": "code",
   "execution_count": 6,
   "id": "60014643",
   "metadata": {},
   "outputs": [
    {
     "name": "stdout",
     "output_type": "stream",
     "text": [
      "🏃🏼 STAGE-2: Processing input='output/01_parquet_out' --> output='output/02_dedupe_out'\n",
      "\n"
     ]
    },
    {
     "name": "stderr",
     "output_type": "stream",
     "text": [
      "22:51:54 INFO - exact dedup params are {'doc_column': 'contents', 'doc_id_column': 'document_id', 'use_snapshot': False, 'snapshot_directory': None, 'hash_cpu': 0.5, 'num_hashes': 2}\n",
      "22:51:54 INFO - pipeline id pipeline_id\n",
      "22:51:54 INFO - code location None\n",
      "22:51:54 INFO - number of workers 2 worker options {'num_cpus': 0.5, 'memory': 2147483648, 'max_restarts': -1}\n",
      "22:51:54 INFO - actor creation delay 0\n",
      "22:51:54 INFO - job details {'job category': 'preprocessing', 'job name': 'ededup', 'job type': 'ray', 'job id': 'job_id'}\n",
      "22:51:54 INFO - data factory data_ is using local data access: input_folder - output/01_parquet_out output_folder - output/02_dedupe_out\n",
      "22:51:54 INFO - data factory data_ max_files -1, n_sample -1\n",
      "22:51:54 INFO - data factory data_ Not using data sets, checkpointing False, max files -1, random samples -1, files to use ['.parquet'], files to checkpoint ['.parquet']\n",
      "22:51:54 INFO - Running locally\n",
      "2025-01-19 22:51:55,430\tINFO worker.py:1777 -- Started a local Ray instance. View the dashboard at \u001b[1m\u001b[32mhttp://127.0.0.1:8265 \u001b[39m\u001b[22m\n",
      "\u001b[36m(orchestrate pid=1165300)\u001b[0m 22:51:56 INFO - orchestrator started at 2025-01-19 22:51:56\n",
      "\u001b[36m(orchestrate pid=1165300)\u001b[0m 22:51:56 INFO - Number of files is 3, source profile {'max_file_size': 0.04436779022216797, 'min_file_size': 0.02082538604736328, 'total_file_size': 0.10954761505126953}\n",
      "\u001b[36m(orchestrate pid=1165300)\u001b[0m 22:51:56 INFO - Cluster resources: {'cpus': 16, 'gpus': 1, 'memory': 7.416252136230469, 'object_store': 3.7081260681152344}\n",
      "\u001b[36m(orchestrate pid=1165300)\u001b[0m 22:51:56 INFO - Number of workers - 2 with {'num_cpus': 0.5, 'memory': 2147483648, 'max_restarts': -1} each\n",
      "\u001b[36m(orchestrate pid=1165300)\u001b[0m 22:51:58 INFO - Completed 1 files in 0.004 min\n",
      "\u001b[36m(orchestrate pid=1165300)\u001b[0m 22:51:58 INFO - Completed 1 files (33.333%)  in 0.004 min. Waiting for completion\n",
      "\u001b[36m(orchestrate pid=1165300)\u001b[0m 22:51:58 INFO - Completed processing 3 files in 0.004 min\n",
      "\u001b[36m(orchestrate pid=1165300)\u001b[0m 22:51:58 INFO - done flushing in 0.001 sec\n",
      "22:52:08 INFO - Completed execution in 0.228 min, execution result 0\n"
     ]
    },
    {
     "name": "stdout",
     "output_type": "stream",
     "text": [
      "✅ Stage:2 completed successfully\n",
      "CPU times: user 93.2 ms, sys: 141 ms, total: 234 ms\n",
      "Wall time: 14.9 s\n"
     ]
    }
   ],
   "source": [
    "%%time \n",
    "\n",
    "from dpk_ededup.ray.transform import Ededup\n",
    "\n",
    "STAGE = 2\n",
    "print (f\"🏃🏼 STAGE-{STAGE}: Processing input='{output_parquet_dir}' --> output='{output_exact_dedupe_dir}'\\n\", flush=True)\n",
    "\n",
    "result = Ededup(input_folder=output_parquet_dir,\n",
    "                output_folder=output_exact_dedupe_dir,\n",
    "                ededup_hash_cpu= 0.5,\n",
    "                ededup_num_hashes= 2,\n",
    "                ededup_doc_column=\"contents\",\n",
    "                ededup_doc_id_column=\"document_id\",\n",
    "                \n",
    "                ## runtime options\n",
    "                run_locally= True,\n",
    "                num_cpus= MY_CONFIG.RAY_NUM_CPUS,\n",
    "                memory= MY_CONFIG.RAY_MEMORY_GB * GB,\n",
    "                runtime_num_workers = MY_CONFIG.RAY_RUNTIME_WORKERS,\n",
    "    ).transform()\n",
    "\n",
    "if result == 0:\n",
    "    print (f\"✅ Stage:{STAGE} completed successfully\")\n",
    "else:\n",
    "    raise Exception (f\"❌ Stage:{STAGE}  failed\")"
   ]
  },
  {
   "cell_type": "markdown",
   "id": "a15d456a",
   "metadata": {},
   "source": [
    "### 4.2 - Inspect Generated output\n",
    "\n",
    "We would see 2 documents: `attention.pdf`  and `granite.pdf`.  The duplicate `granite.pdf` has been filtered out!"
   ]
  },
  {
   "cell_type": "code",
   "execution_count": 7,
   "id": "0d93c248",
   "metadata": {},
   "outputs": [
    {
     "name": "stdout",
     "output_type": "stream",
     "text": [
      "Input files before exact dedupe : 3\n",
      "Output files after exact dedupe : 2\n",
      "Duplicate files removed :   1\n"
     ]
    },
    {
     "data": {
      "text/html": [
       "<div>\n",
       "<style scoped>\n",
       "    .dataframe tbody tr th:only-of-type {\n",
       "        vertical-align: middle;\n",
       "    }\n",
       "\n",
       "    .dataframe tbody tr th {\n",
       "        vertical-align: top;\n",
       "    }\n",
       "\n",
       "    .dataframe thead th {\n",
       "        text-align: right;\n",
       "    }\n",
       "</style>\n",
       "<table border=\"1\" class=\"dataframe\">\n",
       "  <thead>\n",
       "    <tr style=\"text-align: right;\">\n",
       "      <th></th>\n",
       "      <th>filename</th>\n",
       "      <th>contents</th>\n",
       "      <th>num_pages</th>\n",
       "      <th>num_tables</th>\n",
       "      <th>num_doc_elements</th>\n",
       "      <th>document_id</th>\n",
       "      <th>document_hash</th>\n",
       "      <th>ext</th>\n",
       "      <th>hash</th>\n",
       "      <th>size</th>\n",
       "      <th>date_acquired</th>\n",
       "      <th>pdf_convert_time</th>\n",
       "      <th>source_filename</th>\n",
       "      <th>removed</th>\n",
       "    </tr>\n",
       "  </thead>\n",
       "  <tbody>\n",
       "    <tr>\n",
       "      <th>0</th>\n",
       "      <td>attention.pdf</td>\n",
       "      <td>Provided proper attribution is provided, Googl...</td>\n",
       "      <td>15</td>\n",
       "      <td>6</td>\n",
       "      <td>147</td>\n",
       "      <td>0677706d-c587-4ddc-a52d-7ed12b082cbe</td>\n",
       "      <td>2949302674760005271</td>\n",
       "      <td>pdf</td>\n",
       "      <td>f1f600333e46c5d7e23f5a110a903ee38aab0bf7047eca...</td>\n",
       "      <td>46040</td>\n",
       "      <td>2025-01-19T22:48:56.992519</td>\n",
       "      <td>48.361864</td>\n",
       "      <td>attention.pdf</td>\n",
       "      <td>[]</td>\n",
       "    </tr>\n",
       "    <tr>\n",
       "      <th>1</th>\n",
       "      <td>granite.pdf</td>\n",
       "      <td>## Granite Code Models: A Family of Open Found...</td>\n",
       "      <td>28</td>\n",
       "      <td>19</td>\n",
       "      <td>295</td>\n",
       "      <td>20953ad1-8227-4454-8b20-c412f5520185</td>\n",
       "      <td>3127757990743433032</td>\n",
       "      <td>pdf</td>\n",
       "      <td>0534b6a29ab9cedf21c3f6cf756cf0252d19a8e9135a41...</td>\n",
       "      <td>127678</td>\n",
       "      <td>2025-01-19T22:50:57.694515</td>\n",
       "      <td>169.037999</td>\n",
       "      <td>granite.pdf</td>\n",
       "      <td>[]</td>\n",
       "    </tr>\n",
       "  </tbody>\n",
       "</table>\n",
       "</div>"
      ],
      "text/plain": [
       "        filename                                           contents  \\\n",
       "0  attention.pdf  Provided proper attribution is provided, Googl...   \n",
       "1    granite.pdf  ## Granite Code Models: A Family of Open Found...   \n",
       "\n",
       "   num_pages  num_tables  num_doc_elements  \\\n",
       "0         15           6               147   \n",
       "1         28          19               295   \n",
       "\n",
       "                            document_id        document_hash  ext  \\\n",
       "0  0677706d-c587-4ddc-a52d-7ed12b082cbe  2949302674760005271  pdf   \n",
       "1  20953ad1-8227-4454-8b20-c412f5520185  3127757990743433032  pdf   \n",
       "\n",
       "                                                hash    size  \\\n",
       "0  f1f600333e46c5d7e23f5a110a903ee38aab0bf7047eca...   46040   \n",
       "1  0534b6a29ab9cedf21c3f6cf756cf0252d19a8e9135a41...  127678   \n",
       "\n",
       "                date_acquired  pdf_convert_time source_filename removed  \n",
       "0  2025-01-19T22:48:56.992519         48.361864   attention.pdf      []  \n",
       "1  2025-01-19T22:50:57.694515        169.037999     granite.pdf      []  "
      ]
     },
     "execution_count": 7,
     "metadata": {},
     "output_type": "execute_result"
    }
   ],
   "source": [
    "from utils import read_parquet_files_as_df\n",
    "\n",
    "input_df = read_parquet_files_as_df(output_parquet_dir)\n",
    "output_df = read_parquet_files_as_df(output_exact_dedupe_dir)\n",
    "\n",
    "# print (\"Input data dimensions (rows x columns)= \", input_df.shape)\n",
    "# print (\"Output data dimensions (rows x columns)= \", output_df.shape)\n",
    "print (f\"Input files before exact dedupe : {input_df.shape[0]:,}\")\n",
    "print (f\"Output files after exact dedupe : {output_df.shape[0]:,}\")\n",
    "print (\"Duplicate files removed :  \", (input_df.shape[0] - output_df.shape[0]))\n",
    "\n",
    "output_df.sample(min(3, output_df.shape[0]))"
   ]
  },
  {
   "cell_type": "markdown",
   "id": "72274586",
   "metadata": {},
   "source": [
    "##  Step-5: Doc chunks\n",
    "\n",
    "Split the documents in chunks.\n",
    "\n",
    "[Chunking transform documentation](https://github.com/IBM/data-prep-kit/blob/dev/transforms/language/doc_chunk/README.md)\n",
    "\n",
    "**Experiment with chunking size to find the setting that works best for your documents**"
   ]
  },
  {
   "cell_type": "markdown",
   "id": "369f2cd1",
   "metadata": {},
   "source": [
    "### 5.1 -  Execute "
   ]
  },
  {
   "cell_type": "code",
   "execution_count": 8,
   "id": "f1fbdbca",
   "metadata": {},
   "outputs": [
    {
     "name": "stdout",
     "output_type": "stream",
     "text": [
      "🏃🏼 STAGE-3: Processing input='output/02_dedupe_out' --> output='output/03_chunk_out'\n",
      "\n"
     ]
    },
    {
     "name": "stderr",
     "output_type": "stream",
     "text": [
      "22:52:10 INFO - doc_chunk parameters are : {'chunking_type': 'li_markdown', 'content_column_name': 'contents', 'doc_id_column_name': 'document_id', 'output_chunk_column_name': 'contents', 'output_source_doc_id_column_name': 'source_document_id', 'output_jsonpath_column_name': 'doc_jsonpath', 'output_pageno_column_name': 'page_number', 'output_bbox_column_name': 'bbox', 'chunk_size_tokens': 128, 'chunk_overlap_tokens': 30, 'dl_min_chunk_len': None}\n",
      "22:52:10 INFO - pipeline id pipeline_id\n",
      "22:52:10 INFO - code location None\n",
      "22:52:10 INFO - number of workers 2 worker options {'num_cpus': 0.5, 'memory': 2147483648, 'max_restarts': -1}\n",
      "22:52:10 INFO - actor creation delay 0\n",
      "22:52:10 INFO - job details {'job category': 'preprocessing', 'job name': 'doc_chunk', 'job type': 'ray', 'job id': 'job_id'}\n",
      "22:52:10 INFO - data factory data_ is using local data access: input_folder - output/02_dedupe_out output_folder - output/03_chunk_out\n",
      "22:52:10 INFO - data factory data_ max_files -1, n_sample -1\n",
      "22:52:10 INFO - data factory data_ Not using data sets, checkpointing False, max files -1, random samples -1, files to use ['.parquet'], files to checkpoint ['.parquet']\n",
      "22:52:10 INFO - Running locally\n",
      "2025-01-19 22:52:11,705\tINFO worker.py:1777 -- Started a local Ray instance. View the dashboard at \u001b[1m\u001b[32mhttp://127.0.0.1:8265 \u001b[39m\u001b[22m\n",
      "\u001b[36m(orchestrate pid=1166877)\u001b[0m 22:52:14 INFO - orchestrator started at 2025-01-19 22:52:14\n",
      "\u001b[36m(orchestrate pid=1166877)\u001b[0m 22:52:14 INFO - Number of files is 3, source profile {'max_file_size': 0.04471015930175781, 'min_file_size': 0.0028095245361328125, 'total_file_size': 0.06870079040527344}\n",
      "\u001b[36m(orchestrate pid=1166877)\u001b[0m 22:52:14 INFO - Cluster resources: {'cpus': 16, 'gpus': 1, 'memory': 7.387397004291415, 'object_store': 3.693698501214385}\n",
      "\u001b[36m(orchestrate pid=1166877)\u001b[0m 22:52:14 INFO - Number of workers - 2 with {'num_cpus': 0.5, 'memory': 2147483648, 'max_restarts': -1} each\n",
      "\u001b[36m(orchestrate pid=1166877)\u001b[0m 22:52:16 INFO - Completed 1 files in 0.0 min\n",
      "\u001b[36m(orchestrate pid=1166877)\u001b[0m 22:52:16 INFO - Completed 1 files (33.333%)  in 0.0 min. Waiting for completion\n",
      "\u001b[36m(orchestrate pid=1166877)\u001b[0m 22:52:16 INFO - Completed processing 3 files in 0.0 min\n",
      "\u001b[36m(orchestrate pid=1166877)\u001b[0m 22:52:16 INFO - done flushing in 0.001 sec\n",
      "\u001b[36m(RayTransformFileProcessor pid=1167753)\u001b[0m 22:52:16 WARNING - table is empty, skipping processing\n",
      "22:52:26 INFO - Completed execution in 0.262 min, execution result 0\n"
     ]
    },
    {
     "name": "stdout",
     "output_type": "stream",
     "text": [
      "✅ Stage:3 completed successfully\n",
      "CPU times: user 1.03 s, sys: 311 ms, total: 1.34 s\n",
      "Wall time: 18.3 s\n"
     ]
    }
   ],
   "source": [
    "%%time\n",
    "\n",
    "from dpk_doc_chunk.ray.transform import DocChunk\n",
    "from data_processing.utils import GB\n",
    "\n",
    "STAGE = 3\n",
    "print (f\"🏃🏼 STAGE-{STAGE}: Processing input='{output_exact_dedupe_dir}' --> output='{output_chunk_dir}'\\n\", flush=True)\n",
    "\n",
    "result = DocChunk(input_folder=output_exact_dedupe_dir,\n",
    "                        output_folder=output_chunk_dir,\n",
    "                        doc_chunk_chunking_type= \"li_markdown\",\n",
    "\n",
    "                        ## runtime options\n",
    "                        run_locally= True,\n",
    "                        num_cpus= MY_CONFIG.RAY_NUM_CPUS,\n",
    "                        memory= MY_CONFIG.RAY_MEMORY_GB * GB,\n",
    "                        runtime_num_workers = MY_CONFIG.RAY_RUNTIME_WORKERS,\n",
    "                        ).transform()\n",
    "\n",
    "if result == 0:\n",
    "    print (f\"✅ Stage:{STAGE} completed successfully\")\n",
    "else:\n",
    "    raise Exception (f\"❌ Stage:{STAGE}  failed\")"
   ]
  },
  {
   "cell_type": "markdown",
   "id": "213afdf6",
   "metadata": {},
   "source": [
    "### 5.2 - Inspect Generated output\n",
    "\n",
    "We would see documents are split into many chunks"
   ]
  },
  {
   "cell_type": "code",
   "execution_count": 9,
   "id": "d8138d43",
   "metadata": {},
   "outputs": [
    {
     "name": "stdout",
     "output_type": "stream",
     "text": [
      "Files processed : 2\n",
      "Chunks created : 60\n"
     ]
    },
    {
     "data": {
      "text/html": [
       "<div>\n",
       "<style scoped>\n",
       "    .dataframe tbody tr th:only-of-type {\n",
       "        vertical-align: middle;\n",
       "    }\n",
       "\n",
       "    .dataframe tbody tr th {\n",
       "        vertical-align: top;\n",
       "    }\n",
       "\n",
       "    .dataframe thead th {\n",
       "        text-align: right;\n",
       "    }\n",
       "</style>\n",
       "<table border=\"1\" class=\"dataframe\">\n",
       "  <thead>\n",
       "    <tr style=\"text-align: right;\">\n",
       "      <th></th>\n",
       "      <th>filename</th>\n",
       "      <th>num_pages</th>\n",
       "      <th>num_tables</th>\n",
       "      <th>num_doc_elements</th>\n",
       "      <th>document_hash</th>\n",
       "      <th>ext</th>\n",
       "      <th>hash</th>\n",
       "      <th>size</th>\n",
       "      <th>date_acquired</th>\n",
       "      <th>pdf_convert_time</th>\n",
       "      <th>source_filename</th>\n",
       "      <th>removed</th>\n",
       "      <th>source_document_id</th>\n",
       "      <th>contents</th>\n",
       "      <th>document_id</th>\n",
       "    </tr>\n",
       "  </thead>\n",
       "  <tbody>\n",
       "    <tr>\n",
       "      <th>1</th>\n",
       "      <td>attention.pdf</td>\n",
       "      <td>15</td>\n",
       "      <td>6</td>\n",
       "      <td>147</td>\n",
       "      <td>2949302674760005271</td>\n",
       "      <td>pdf</td>\n",
       "      <td>f1f600333e46c5d7e23f5a110a903ee38aab0bf7047eca...</td>\n",
       "      <td>46040</td>\n",
       "      <td>2025-01-19T22:48:56.992519</td>\n",
       "      <td>48.361864</td>\n",
       "      <td>attention.pdf</td>\n",
       "      <td>[]</td>\n",
       "      <td>0677706d-c587-4ddc-a52d-7ed12b082cbe</td>\n",
       "      <td>## Attention Is All You Need\\n\\nAshish Vaswani...</td>\n",
       "      <td>45e678f43369d5fa127105b7cca6a6e4dd4deed6422185...</td>\n",
       "    </tr>\n",
       "    <tr>\n",
       "      <th>58</th>\n",
       "      <td>granite.pdf</td>\n",
       "      <td>28</td>\n",
       "      <td>19</td>\n",
       "      <td>295</td>\n",
       "      <td>3127757990743433032</td>\n",
       "      <td>pdf</td>\n",
       "      <td>0534b6a29ab9cedf21c3f6cf756cf0252d19a8e9135a41...</td>\n",
       "      <td>127678</td>\n",
       "      <td>2025-01-19T22:50:57.694515</td>\n",
       "      <td>169.037999</td>\n",
       "      <td>granite.pdf</td>\n",
       "      <td>[]</td>\n",
       "      <td>20953ad1-8227-4454-8b20-c412f5520185</td>\n",
       "      <td>## References\\n\\nWasi Uddin Ahmad, Md Golam Ra...</td>\n",
       "      <td>b787f46ab644038e472b9815a122eead379ed7f37a3d4f...</td>\n",
       "    </tr>\n",
       "    <tr>\n",
       "      <th>52</th>\n",
       "      <td>granite.pdf</td>\n",
       "      <td>28</td>\n",
       "      <td>19</td>\n",
       "      <td>295</td>\n",
       "      <td>3127757990743433032</td>\n",
       "      <td>pdf</td>\n",
       "      <td>0534b6a29ab9cedf21c3f6cf756cf0252d19a8e9135a41...</td>\n",
       "      <td>127678</td>\n",
       "      <td>2025-01-19T22:50:57.694515</td>\n",
       "      <td>169.037999</td>\n",
       "      <td>granite.pdf</td>\n",
       "      <td>[]</td>\n",
       "      <td>20953ad1-8227-4454-8b20-c412f5520185</td>\n",
       "      <td>## 6.4 Code Reasoning, Understanding and Execu...</td>\n",
       "      <td>1c7f5e76a2aaad73f5f03549b065016b0703239538839d...</td>\n",
       "    </tr>\n",
       "  </tbody>\n",
       "</table>\n",
       "</div>"
      ],
      "text/plain": [
       "         filename  num_pages  num_tables  num_doc_elements  \\\n",
       "1   attention.pdf         15           6               147   \n",
       "58    granite.pdf         28          19               295   \n",
       "52    granite.pdf         28          19               295   \n",
       "\n",
       "          document_hash  ext  \\\n",
       "1   2949302674760005271  pdf   \n",
       "58  3127757990743433032  pdf   \n",
       "52  3127757990743433032  pdf   \n",
       "\n",
       "                                                 hash    size  \\\n",
       "1   f1f600333e46c5d7e23f5a110a903ee38aab0bf7047eca...   46040   \n",
       "58  0534b6a29ab9cedf21c3f6cf756cf0252d19a8e9135a41...  127678   \n",
       "52  0534b6a29ab9cedf21c3f6cf756cf0252d19a8e9135a41...  127678   \n",
       "\n",
       "                 date_acquired  pdf_convert_time source_filename removed  \\\n",
       "1   2025-01-19T22:48:56.992519         48.361864   attention.pdf      []   \n",
       "58  2025-01-19T22:50:57.694515        169.037999     granite.pdf      []   \n",
       "52  2025-01-19T22:50:57.694515        169.037999     granite.pdf      []   \n",
       "\n",
       "                      source_document_id  \\\n",
       "1   0677706d-c587-4ddc-a52d-7ed12b082cbe   \n",
       "58  20953ad1-8227-4454-8b20-c412f5520185   \n",
       "52  20953ad1-8227-4454-8b20-c412f5520185   \n",
       "\n",
       "                                             contents  \\\n",
       "1   ## Attention Is All You Need\\n\\nAshish Vaswani...   \n",
       "58  ## References\\n\\nWasi Uddin Ahmad, Md Golam Ra...   \n",
       "52  ## 6.4 Code Reasoning, Understanding and Execu...   \n",
       "\n",
       "                                          document_id  \n",
       "1   45e678f43369d5fa127105b7cca6a6e4dd4deed6422185...  \n",
       "58  b787f46ab644038e472b9815a122eead379ed7f37a3d4f...  \n",
       "52  1c7f5e76a2aaad73f5f03549b065016b0703239538839d...  "
      ]
     },
     "execution_count": 9,
     "metadata": {},
     "output_type": "execute_result"
    }
   ],
   "source": [
    "from utils import read_parquet_files_as_df\n",
    "\n",
    "input_df = read_parquet_files_as_df(output_exact_dedupe_dir)  ## for debug purposes\n",
    "output_df = read_parquet_files_as_df(output_chunk_dir)\n",
    "\n",
    "print (f\"Files processed : {input_df.shape[0]:,}\")\n",
    "print (f\"Chunks created : {output_df.shape[0]:,}\")\n",
    "\n",
    "# print (\"Input data dimensions (rows x columns)= \", input_df.shape)\n",
    "# print (\"Output data dimensions (rows x columns)= \", output_df.shape)\n",
    "\n",
    "output_df.sample(min(3, output_df.shape[0]))"
   ]
  },
  {
   "cell_type": "markdown",
   "id": "5370950a-2a3a-4143-8218-f9b4808099ba",
   "metadata": {},
   "source": [
    "## Step-6:   Calculate Embeddings for Chunks\n",
    "\n",
    "we will calculate embeddings for each chunk using an open source embedding model\n",
    "\n",
    "[Embeddings / Text Encoder documentation](https://github.com/IBM/data-prep-kit/blob/dev/transforms/language/text_encoder/README.md)"
   ]
  },
  {
   "cell_type": "markdown",
   "id": "1e6a88f8",
   "metadata": {},
   "source": [
    "### 6.1 - Execute"
   ]
  },
  {
   "cell_type": "code",
   "execution_count": 10,
   "id": "76132f76",
   "metadata": {},
   "outputs": [
    {
     "name": "stdout",
     "output_type": "stream",
     "text": [
      "🏃🏼 STAGE-4: Processing input='output/03_chunk_out' --> output='output/04_embeddings_out'\n",
      "\n"
     ]
    },
    {
     "name": "stderr",
     "output_type": "stream",
     "text": [
      "22:52:28 INFO - text_encoder parameters are : {'content_column_name': 'contents', 'output_embeddings_column_name': 'embeddings', 'model_name': 'sentence-transformers/all-MiniLM-L6-v2'}\n",
      "22:52:28 INFO - pipeline id pipeline_id\n",
      "22:52:28 INFO - code location None\n",
      "22:52:28 INFO - number of workers 2 worker options {'num_cpus': 0.5, 'memory': 2147483648, 'max_restarts': -1}\n",
      "22:52:28 INFO - actor creation delay 0\n",
      "22:52:28 INFO - job details {'job category': 'preprocessing', 'job name': 'text_encoder', 'job type': 'ray', 'job id': 'job_id'}\n",
      "22:52:28 INFO - data factory data_ is using local data access: input_folder - output/03_chunk_out output_folder - output/04_embeddings_out\n",
      "22:52:28 INFO - data factory data_ max_files -1, n_sample -1\n",
      "22:52:28 INFO - data factory data_ Not using data sets, checkpointing False, max files -1, random samples -1, files to use ['.parquet'], files to checkpoint ['.parquet']\n",
      "22:52:28 INFO - Running locally\n",
      "2025-01-19 22:52:29,668\tINFO worker.py:1777 -- Started a local Ray instance. View the dashboard at \u001b[1m\u001b[32mhttp://127.0.0.1:8265 \u001b[39m\u001b[22m\n",
      "\u001b[36m(orchestrate pid=1168388)\u001b[0m 22:52:33 INFO - orchestrator started at 2025-01-19 22:52:33\n",
      "\u001b[36m(orchestrate pid=1168388)\u001b[0m 22:52:33 INFO - Number of files is 2, source profile {'max_file_size': 0.04669189453125, 'min_file_size': 0.02893352508544922, 'total_file_size': 0.07562541961669922}\n",
      "\u001b[36m(orchestrate pid=1168388)\u001b[0m 22:52:33 INFO - Cluster resources: {'cpus': 16, 'gpus': 1, 'memory': 7.35516357421875, 'object_store': 3.677581787109375}\n",
      "\u001b[36m(orchestrate pid=1168388)\u001b[0m 22:52:33 INFO - Number of workers - 2 with {'num_cpus': 0.5, 'memory': 2147483648, 'max_restarts': -1} each\n",
      "\u001b[36m(orchestrate pid=1168388)\u001b[0m 22:52:40 INFO - Completed 0 files (0.0%)  in 0.0 min. Waiting for completion\n",
      "\u001b[36m(orchestrate pid=1168388)\u001b[0m 22:52:42 INFO - Completed processing 2 files in 0.037 min\n",
      "\u001b[36m(orchestrate pid=1168388)\u001b[0m 22:52:42 INFO - done flushing in 0.001 sec\n",
      "22:52:52 INFO - Completed execution in 0.397 min, execution result 0\n"
     ]
    },
    {
     "name": "stdout",
     "output_type": "stream",
     "text": [
      "✅ Stage:4 completed successfully\n",
      "CPU times: user 674 ms, sys: 298 ms, total: 972 ms\n",
      "Wall time: 26.2 s\n"
     ]
    }
   ],
   "source": [
    "%%time \n",
    "\n",
    "from dpk_text_encoder.ray.transform import TextEncoder\n",
    "from data_processing.utils import GB\n",
    "\n",
    "STAGE  = 4\n",
    "print (f\"🏃🏼 STAGE-{STAGE}: Processing input='{output_chunk_dir}' --> output='{output_embeddings_dir}'\\n\", flush=True)\n",
    "\n",
    "result = TextEncoder(input_folder= output_chunk_dir, \n",
    "               output_folder= output_embeddings_dir, \n",
    "               text_encoder_model_name = MY_CONFIG.EMBEDDING_MODEL,\n",
    "               \n",
    "               ## runtime options\n",
    "               run_locally= True,\n",
    "               num_cpus= MY_CONFIG.RAY_NUM_CPUS,\n",
    "               memory= MY_CONFIG.RAY_MEMORY_GB * GB,\n",
    "               runtime_num_workers = MY_CONFIG.RAY_RUNTIME_WORKERS,\n",
    "               ).transform()\n",
    "\n",
    "if result == 0:\n",
    "    print (f\"✅ Stage:{STAGE} completed successfully\")\n",
    "else:\n",
    "    raise Exception (f\"❌ Stage:{STAGE}  failed\")"
   ]
  },
  {
   "cell_type": "markdown",
   "id": "b734852c",
   "metadata": {},
   "source": [
    "### 6.2 - Inspect Generated output"
   ]
  },
  {
   "cell_type": "code",
   "execution_count": 11,
   "id": "7b1c1d09",
   "metadata": {},
   "outputs": [
    {
     "name": "stdout",
     "output_type": "stream",
     "text": [
      "Input data dimensions (rows x columns)=  (60, 15)\n",
      "Output data dimensions (rows x columns)=  (60, 16)\n"
     ]
    },
    {
     "data": {
      "text/html": [
       "<div>\n",
       "<style scoped>\n",
       "    .dataframe tbody tr th:only-of-type {\n",
       "        vertical-align: middle;\n",
       "    }\n",
       "\n",
       "    .dataframe tbody tr th {\n",
       "        vertical-align: top;\n",
       "    }\n",
       "\n",
       "    .dataframe thead th {\n",
       "        text-align: right;\n",
       "    }\n",
       "</style>\n",
       "<table border=\"1\" class=\"dataframe\">\n",
       "  <thead>\n",
       "    <tr style=\"text-align: right;\">\n",
       "      <th></th>\n",
       "      <th>filename</th>\n",
       "      <th>num_pages</th>\n",
       "      <th>num_tables</th>\n",
       "      <th>num_doc_elements</th>\n",
       "      <th>document_hash</th>\n",
       "      <th>ext</th>\n",
       "      <th>hash</th>\n",
       "      <th>size</th>\n",
       "      <th>date_acquired</th>\n",
       "      <th>pdf_convert_time</th>\n",
       "      <th>source_filename</th>\n",
       "      <th>removed</th>\n",
       "      <th>source_document_id</th>\n",
       "      <th>contents</th>\n",
       "      <th>document_id</th>\n",
       "      <th>embeddings</th>\n",
       "    </tr>\n",
       "  </thead>\n",
       "  <tbody>\n",
       "    <tr>\n",
       "      <th>44</th>\n",
       "      <td>granite.pdf</td>\n",
       "      <td>28</td>\n",
       "      <td>19</td>\n",
       "      <td>295</td>\n",
       "      <td>3127757990743433032</td>\n",
       "      <td>pdf</td>\n",
       "      <td>0534b6a29ab9cedf21c3f6cf756cf0252d19a8e9135a41...</td>\n",
       "      <td>127678</td>\n",
       "      <td>2025-01-19T22:50:57.694515</td>\n",
       "      <td>169.037999</td>\n",
       "      <td>granite.pdf</td>\n",
       "      <td>[]</td>\n",
       "      <td>20953ad1-8227-4454-8b20-c412f5520185</td>\n",
       "      <td>## 6.1.1 HumanEvalSynthesize: Multilingual Cod...</td>\n",
       "      <td>b10bcf46720fb7fff15818c4bc03ec37ae84181e6cbbc1...</td>\n",
       "      <td>[-0.03851807, 0.00934296, 0.02425409, -0.00439...</td>\n",
       "    </tr>\n",
       "    <tr>\n",
       "      <th>15</th>\n",
       "      <td>attention.pdf</td>\n",
       "      <td>15</td>\n",
       "      <td>6</td>\n",
       "      <td>147</td>\n",
       "      <td>2949302674760005271</td>\n",
       "      <td>pdf</td>\n",
       "      <td>f1f600333e46c5d7e23f5a110a903ee38aab0bf7047eca...</td>\n",
       "      <td>46040</td>\n",
       "      <td>2025-01-19T22:48:56.992519</td>\n",
       "      <td>48.361864</td>\n",
       "      <td>attention.pdf</td>\n",
       "      <td>[]</td>\n",
       "      <td>0677706d-c587-4ddc-a52d-7ed12b082cbe</td>\n",
       "      <td>## 5 Training\\n\\nThis section describes the tr...</td>\n",
       "      <td>7e7dce074e6995e9c9551e1349cad58153b319c45e20a1...</td>\n",
       "      <td>[-0.02469791, -0.077463716, 0.07508141, 0.0363...</td>\n",
       "    </tr>\n",
       "    <tr>\n",
       "      <th>40</th>\n",
       "      <td>granite.pdf</td>\n",
       "      <td>28</td>\n",
       "      <td>19</td>\n",
       "      <td>295</td>\n",
       "      <td>3127757990743433032</td>\n",
       "      <td>pdf</td>\n",
       "      <td>0534b6a29ab9cedf21c3f6cf756cf0252d19a8e9135a41...</td>\n",
       "      <td>127678</td>\n",
       "      <td>2025-01-19T22:50:57.694515</td>\n",
       "      <td>169.037999</td>\n",
       "      <td>granite.pdf</td>\n",
       "      <td>[]</td>\n",
       "      <td>20953ad1-8227-4454-8b20-c412f5520185</td>\n",
       "      <td>## 4.4 Infrastructure\\n\\nWe train the Granite ...</td>\n",
       "      <td>81f51d21fd61607d8aa9bb50925c2bc936fa1da7b27f4b...</td>\n",
       "      <td>[-0.033672214, -0.01862875, 0.0034308454, 0.06...</td>\n",
       "    </tr>\n",
       "  </tbody>\n",
       "</table>\n",
       "</div>"
      ],
      "text/plain": [
       "         filename  num_pages  num_tables  num_doc_elements  \\\n",
       "44    granite.pdf         28          19               295   \n",
       "15  attention.pdf         15           6               147   \n",
       "40    granite.pdf         28          19               295   \n",
       "\n",
       "          document_hash  ext  \\\n",
       "44  3127757990743433032  pdf   \n",
       "15  2949302674760005271  pdf   \n",
       "40  3127757990743433032  pdf   \n",
       "\n",
       "                                                 hash    size  \\\n",
       "44  0534b6a29ab9cedf21c3f6cf756cf0252d19a8e9135a41...  127678   \n",
       "15  f1f600333e46c5d7e23f5a110a903ee38aab0bf7047eca...   46040   \n",
       "40  0534b6a29ab9cedf21c3f6cf756cf0252d19a8e9135a41...  127678   \n",
       "\n",
       "                 date_acquired  pdf_convert_time source_filename removed  \\\n",
       "44  2025-01-19T22:50:57.694515        169.037999     granite.pdf      []   \n",
       "15  2025-01-19T22:48:56.992519         48.361864   attention.pdf      []   \n",
       "40  2025-01-19T22:50:57.694515        169.037999     granite.pdf      []   \n",
       "\n",
       "                      source_document_id  \\\n",
       "44  20953ad1-8227-4454-8b20-c412f5520185   \n",
       "15  0677706d-c587-4ddc-a52d-7ed12b082cbe   \n",
       "40  20953ad1-8227-4454-8b20-c412f5520185   \n",
       "\n",
       "                                             contents  \\\n",
       "44  ## 6.1.1 HumanEvalSynthesize: Multilingual Cod...   \n",
       "15  ## 5 Training\\n\\nThis section describes the tr...   \n",
       "40  ## 4.4 Infrastructure\\n\\nWe train the Granite ...   \n",
       "\n",
       "                                          document_id  \\\n",
       "44  b10bcf46720fb7fff15818c4bc03ec37ae84181e6cbbc1...   \n",
       "15  7e7dce074e6995e9c9551e1349cad58153b319c45e20a1...   \n",
       "40  81f51d21fd61607d8aa9bb50925c2bc936fa1da7b27f4b...   \n",
       "\n",
       "                                           embeddings  \n",
       "44  [-0.03851807, 0.00934296, 0.02425409, -0.00439...  \n",
       "15  [-0.02469791, -0.077463716, 0.07508141, 0.0363...  \n",
       "40  [-0.033672214, -0.01862875, 0.0034308454, 0.06...  "
      ]
     },
     "execution_count": 11,
     "metadata": {},
     "output_type": "execute_result"
    }
   ],
   "source": [
    "from utils import read_parquet_files_as_df\n",
    "\n",
    "input_df = read_parquet_files_as_df(output_chunk_dir)\n",
    "output_df = read_parquet_files_as_df(output_embeddings_dir)\n",
    "\n",
    "print (\"Input data dimensions (rows x columns)= \", input_df.shape)\n",
    "print (\"Output data dimensions (rows x columns)= \", output_df.shape)\n",
    "\n",
    "output_df.sample(min(3, output_df.shape[0]))"
   ]
  },
  {
   "cell_type": "markdown",
   "id": "8b80bc44",
   "metadata": {},
   "source": [
    "## Step-7: Copy output to final output dir"
   ]
  },
  {
   "cell_type": "code",
   "execution_count": 12,
   "id": "16dee3b8-31dc-4168-8adb-f2a0a0b5e207",
   "metadata": {},
   "outputs": [
    {
     "name": "stdout",
     "output_type": "stream",
     "text": [
      "✅ Copied output from 'output/04_embeddings_out' --> 'output/output_final'\n"
     ]
    }
   ],
   "source": [
    "import shutil\n",
    "\n",
    "shutil.rmtree(MY_CONFIG.OUTPUT_FOLDER_FINAL, ignore_errors=True)\n",
    "shutil.copytree(src=output_embeddings_dir, dst=MY_CONFIG.OUTPUT_FOLDER_FINAL)\n",
    "\n",
    "print (f\"✅ Copied output from '{output_embeddings_dir}' --> '{MY_CONFIG.OUTPUT_FOLDER_FINAL}'\")"
   ]
  }
 ],
 "metadata": {
  "kernelspec": {
   "display_name": "dpk-1-rag-pdf-r1.0.0.a4-py3.11",
   "language": "python",
   "name": "python3"
  },
  "language_info": {
   "codemirror_mode": {
    "name": "ipython",
    "version": 3
   },
   "file_extension": ".py",
   "mimetype": "text/x-python",
   "name": "python",
   "nbconvert_exporter": "python",
   "pygments_lexer": "ipython3",
   "version": "3.11.11"
  }
 },
 "nbformat": 4,
 "nbformat_minor": 5
}
