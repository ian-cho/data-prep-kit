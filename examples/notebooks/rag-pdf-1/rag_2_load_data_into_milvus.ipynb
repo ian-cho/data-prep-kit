{
 "cells": [
  {
   "cell_type": "markdown",
   "metadata": {},
   "source": [
    "# Load Processed Data into Vector Database\n",
    "\n",
    "This notebook loads output from data prep kit into Milvus\n",
    "\n",
    "**Step-5 in this workflow**\n",
    "\n",
    "![](media/rag-overview-2.png)\n"
   ]
  },
  {
   "cell_type": "markdown",
   "metadata": {},
   "source": [
    "## Step-1: Configuration"
   ]
  },
  {
   "cell_type": "code",
   "execution_count": 1,
   "metadata": {},
   "outputs": [],
   "source": [
    "from my_config import MY_CONFIG"
   ]
  },
  {
   "cell_type": "markdown",
   "metadata": {},
   "source": [
    "## Step-2: Load Parquet Data\n",
    "\n",
    "Load all  `.parquet` files in the given dir"
   ]
  },
  {
   "cell_type": "code",
   "execution_count": 2,
   "metadata": {},
   "outputs": [
    {
     "name": "stdout",
     "output_type": "stream",
     "text": [
      "Loading data from :  output/output_final\n",
      "Number of parquet files to read :  2\n",
      "\n",
      "Read file: 'output/output_final/attention.parquet'.  number of rows = 27\n",
      "Read file: 'output/output_final/granite.parquet'.  number of rows = 33\n",
      "\n",
      "Total number of rows = 60\n"
     ]
    }
   ],
   "source": [
    "import pandas as pd\n",
    "import glob\n",
    "\n",
    "print ('Loading data from : ', MY_CONFIG.OUTPUT_FOLDER_FINAL)\n",
    "\n",
    "# Get a list of all Parquet files in the directory\n",
    "parquet_files = glob.glob(f'{MY_CONFIG.OUTPUT_FOLDER_FINAL}/*.parquet')\n",
    "print (\"Number of parquet files to read : \", len(parquet_files))\n",
    "print ()\n",
    "\n",
    "# Create an empty list to store the DataFrames\n",
    "dfs = []\n",
    "\n",
    "# Loop through each Parquet file and read it into a DataFrame\n",
    "for file in parquet_files:\n",
    "    df = pd.read_parquet(file)\n",
    "    print (f\"Read file: '{file}'.  number of rows = {df.shape[0]}\")\n",
    "    dfs.append(df)\n",
    "\n",
    "# Concatenate all DataFrames into a single DataFrame\n",
    "data_df = pd.concat(dfs, ignore_index=True)\n",
    "\n",
    "print (f\"\\nTotal number of rows = {data_df.shape[0]}\")"
   ]
  },
  {
   "cell_type": "code",
   "execution_count": 3,
   "metadata": {},
   "outputs": [
    {
     "name": "stdout",
     "output_type": "stream",
     "text": [
      "embedding length:  384\n",
      "<class 'pandas.core.frame.DataFrame'>\n",
      "RangeIndex: 60 entries, 0 to 59\n",
      "Data columns (total 16 columns):\n",
      " #   Column              Non-Null Count  Dtype  \n",
      "---  ------              --------------  -----  \n",
      " 0   filename            60 non-null     object \n",
      " 1   num_pages           60 non-null     int64  \n",
      " 2   num_tables          60 non-null     int64  \n",
      " 3   num_doc_elements    60 non-null     int64  \n",
      " 4   document_hash       60 non-null     object \n",
      " 5   ext                 60 non-null     object \n",
      " 6   hash                60 non-null     object \n",
      " 7   size                60 non-null     int64  \n",
      " 8   date_acquired       60 non-null     object \n",
      " 9   pdf_convert_time    60 non-null     float64\n",
      " 10  source_filename     60 non-null     object \n",
      " 11  removed             60 non-null     object \n",
      " 12  source_document_id  60 non-null     object \n",
      " 13  text                60 non-null     object \n",
      " 14  document_id         60 non-null     object \n",
      " 15  vector              60 non-null     object \n",
      "dtypes: float64(1), int64(4), object(11)\n",
      "memory usage: 7.6+ KB\n",
      "None\n"
     ]
    },
    {
     "data": {
      "text/html": [
       "<div>\n",
       "<style scoped>\n",
       "    .dataframe tbody tr th:only-of-type {\n",
       "        vertical-align: middle;\n",
       "    }\n",
       "\n",
       "    .dataframe tbody tr th {\n",
       "        vertical-align: top;\n",
       "    }\n",
       "\n",
       "    .dataframe thead th {\n",
       "        text-align: right;\n",
       "    }\n",
       "</style>\n",
       "<table border=\"1\" class=\"dataframe\">\n",
       "  <thead>\n",
       "    <tr style=\"text-align: right;\">\n",
       "      <th></th>\n",
       "      <th>filename</th>\n",
       "      <th>num_pages</th>\n",
       "      <th>num_tables</th>\n",
       "      <th>num_doc_elements</th>\n",
       "      <th>document_hash</th>\n",
       "      <th>ext</th>\n",
       "      <th>hash</th>\n",
       "      <th>size</th>\n",
       "      <th>date_acquired</th>\n",
       "      <th>pdf_convert_time</th>\n",
       "      <th>source_filename</th>\n",
       "      <th>removed</th>\n",
       "      <th>source_document_id</th>\n",
       "      <th>text</th>\n",
       "      <th>document_id</th>\n",
       "      <th>vector</th>\n",
       "    </tr>\n",
       "  </thead>\n",
       "  <tbody>\n",
       "    <tr>\n",
       "      <th>0</th>\n",
       "      <td>attention.pdf</td>\n",
       "      <td>15</td>\n",
       "      <td>6</td>\n",
       "      <td>147</td>\n",
       "      <td>2949302674760005271</td>\n",
       "      <td>pdf</td>\n",
       "      <td>f1f600333e46c5d7e23f5a110a903ee38aab0bf7047eca...</td>\n",
       "      <td>46040</td>\n",
       "      <td>2025-01-19T22:48:56.992519</td>\n",
       "      <td>48.361864</td>\n",
       "      <td>attention.pdf</td>\n",
       "      <td>[]</td>\n",
       "      <td>0677706d-c587-4ddc-a52d-7ed12b082cbe</td>\n",
       "      <td>Provided proper attribution is provided, Googl...</td>\n",
       "      <td>40364b6813455711d85ac8fb680212f946dd00b2f59f31...</td>\n",
       "      <td>[-0.005492052, 0.006140055, 0.004378937, -0.00...</td>\n",
       "    </tr>\n",
       "    <tr>\n",
       "      <th>1</th>\n",
       "      <td>attention.pdf</td>\n",
       "      <td>15</td>\n",
       "      <td>6</td>\n",
       "      <td>147</td>\n",
       "      <td>2949302674760005271</td>\n",
       "      <td>pdf</td>\n",
       "      <td>f1f600333e46c5d7e23f5a110a903ee38aab0bf7047eca...</td>\n",
       "      <td>46040</td>\n",
       "      <td>2025-01-19T22:48:56.992519</td>\n",
       "      <td>48.361864</td>\n",
       "      <td>attention.pdf</td>\n",
       "      <td>[]</td>\n",
       "      <td>0677706d-c587-4ddc-a52d-7ed12b082cbe</td>\n",
       "      <td>## Attention Is All You Need\\n\\nAshish Vaswani...</td>\n",
       "      <td>45e678f43369d5fa127105b7cca6a6e4dd4deed6422185...</td>\n",
       "      <td>[0.0298234, -0.006213936, 0.06320297, -0.00840...</td>\n",
       "    </tr>\n",
       "    <tr>\n",
       "      <th>2</th>\n",
       "      <td>attention.pdf</td>\n",
       "      <td>15</td>\n",
       "      <td>6</td>\n",
       "      <td>147</td>\n",
       "      <td>2949302674760005271</td>\n",
       "      <td>pdf</td>\n",
       "      <td>f1f600333e46c5d7e23f5a110a903ee38aab0bf7047eca...</td>\n",
       "      <td>46040</td>\n",
       "      <td>2025-01-19T22:48:56.992519</td>\n",
       "      <td>48.361864</td>\n",
       "      <td>attention.pdf</td>\n",
       "      <td>[]</td>\n",
       "      <td>0677706d-c587-4ddc-a52d-7ed12b082cbe</td>\n",
       "      <td>## Abstract\\n\\nThe dominant sequence transduct...</td>\n",
       "      <td>590629323f9d88598a80846d1df6a83d0ad6ac53efe278...</td>\n",
       "      <td>[-0.08771475, -0.12373961, 0.043168113, 0.0060...</td>\n",
       "    </tr>\n",
       "  </tbody>\n",
       "</table>\n",
       "</div>"
      ],
      "text/plain": [
       "        filename  num_pages  num_tables  num_doc_elements  \\\n",
       "0  attention.pdf         15           6               147   \n",
       "1  attention.pdf         15           6               147   \n",
       "2  attention.pdf         15           6               147   \n",
       "\n",
       "         document_hash  ext  \\\n",
       "0  2949302674760005271  pdf   \n",
       "1  2949302674760005271  pdf   \n",
       "2  2949302674760005271  pdf   \n",
       "\n",
       "                                                hash   size  \\\n",
       "0  f1f600333e46c5d7e23f5a110a903ee38aab0bf7047eca...  46040   \n",
       "1  f1f600333e46c5d7e23f5a110a903ee38aab0bf7047eca...  46040   \n",
       "2  f1f600333e46c5d7e23f5a110a903ee38aab0bf7047eca...  46040   \n",
       "\n",
       "                date_acquired  pdf_convert_time source_filename removed  \\\n",
       "0  2025-01-19T22:48:56.992519         48.361864   attention.pdf      []   \n",
       "1  2025-01-19T22:48:56.992519         48.361864   attention.pdf      []   \n",
       "2  2025-01-19T22:48:56.992519         48.361864   attention.pdf      []   \n",
       "\n",
       "                     source_document_id  \\\n",
       "0  0677706d-c587-4ddc-a52d-7ed12b082cbe   \n",
       "1  0677706d-c587-4ddc-a52d-7ed12b082cbe   \n",
       "2  0677706d-c587-4ddc-a52d-7ed12b082cbe   \n",
       "\n",
       "                                                text  \\\n",
       "0  Provided proper attribution is provided, Googl...   \n",
       "1  ## Attention Is All You Need\\n\\nAshish Vaswani...   \n",
       "2  ## Abstract\\n\\nThe dominant sequence transduct...   \n",
       "\n",
       "                                         document_id  \\\n",
       "0  40364b6813455711d85ac8fb680212f946dd00b2f59f31...   \n",
       "1  45e678f43369d5fa127105b7cca6a6e4dd4deed6422185...   \n",
       "2  590629323f9d88598a80846d1df6a83d0ad6ac53efe278...   \n",
       "\n",
       "                                              vector  \n",
       "0  [-0.005492052, 0.006140055, 0.004378937, -0.00...  \n",
       "1  [0.0298234, -0.006213936, 0.06320297, -0.00840...  \n",
       "2  [-0.08771475, -0.12373961, 0.043168113, 0.0060...  "
      ]
     },
     "execution_count": 3,
     "metadata": {},
     "output_type": "execute_result"
    }
   ],
   "source": [
    "\n",
    "## Shape the data\n",
    "\n",
    "MY_CONFIG.EMBEDDING_LENGTH =  len(data_df.iloc[0]['embeddings'])\n",
    "print ('embedding length: ', MY_CONFIG.EMBEDDING_LENGTH)\n",
    "\n",
    "# rename 'embeddings' columns as 'vector' to match default schema\n",
    "# if 'vector' not in data_df.columns and 'embeddings' in data_df.columns:\n",
    "#     data_df = data_df.rename( columns= {'embeddings' : 'vector'})\n",
    "# if 'text' not in data_df.columns and 'contents' in data_df.columns:\n",
    "#     data_df = data_df.rename( columns= {'contents' : 'text'})\n",
    "\n",
    "data_df = data_df.rename( columns= {'embeddings' : 'vector', 'contents' : 'text'})\n",
    "\n",
    "print (data_df.info())\n",
    "data_df.head(3)"
   ]
  },
  {
   "cell_type": "markdown",
   "metadata": {},
   "source": [
    "## Step-3: Connect to Vector Database\n",
    "\n",
    "Milvus can be embedded and easy to use.\n",
    "\n",
    "<span style=\"color:blue;\">Note: If you encounter an error about unable to load database, try this: </span>\n",
    "\n",
    "- <span style=\"color:blue;\">In **vscode** : **restart the kernel** of previous notebook. This will release the db.lock </span>\n",
    "- <span style=\"color:blue;\">In **Jupyter**: Do `File --> Close and Shutdown Notebook` of previous notebook. This will release the db.lock</span>\n",
    "- <span style=\"color:blue;\">Re-run this cell again</span>\n",
    "\n",
    "\n"
   ]
  },
  {
   "cell_type": "code",
   "execution_count": 4,
   "metadata": {},
   "outputs": [
    {
     "name": "stdout",
     "output_type": "stream",
     "text": [
      "✅ Connected to Milvus instance: ./rag_1_dpk.db\n"
     ]
    }
   ],
   "source": [
    "from pymilvus import MilvusClient\n",
    "\n",
    "milvus_client = MilvusClient(MY_CONFIG.DB_URI)\n",
    "\n",
    "print (\"✅ Connected to Milvus instance:\", MY_CONFIG.DB_URI)"
   ]
  },
  {
   "cell_type": "markdown",
   "metadata": {},
   "source": [
    "# Step-4: Create A Collection\n",
    "\n"
   ]
  },
  {
   "cell_type": "code",
   "execution_count": 5,
   "metadata": {},
   "outputs": [
    {
     "name": "stdout",
     "output_type": "stream",
     "text": [
      "✅ Cleared collection : dpk_papers\n",
      "✅ Created collection : dpk_papers\n"
     ]
    }
   ],
   "source": [
    "# if we already have a collection, clear it first\n",
    "if milvus_client.has_collection(collection_name=MY_CONFIG.COLLECTION_NAME):\n",
    "    milvus_client.drop_collection(collection_name=MY_CONFIG.COLLECTION_NAME)\n",
    "    print ('✅ Cleared collection :', MY_CONFIG.COLLECTION_NAME)\n",
    "\n",
    "\n",
    "milvus_client.create_collection(\n",
    "    collection_name=MY_CONFIG.COLLECTION_NAME,\n",
    "    dimension=MY_CONFIG.EMBEDDING_LENGTH,\n",
    "    metric_type=\"IP\",  # Inner product distance\n",
    "    consistency_level=\"Strong\",  # Strong consistency level\n",
    "    auto_id=True\n",
    ")\n",
    "print (\"✅ Created collection :\", MY_CONFIG.COLLECTION_NAME)\n"
   ]
  },
  {
   "cell_type": "markdown",
   "metadata": {},
   "source": [
    "## Step-5: Insert Data into Collection"
   ]
  },
  {
   "cell_type": "code",
   "execution_count": 6,
   "metadata": {},
   "outputs": [
    {
     "name": "stdout",
     "output_type": "stream",
     "text": [
      "inserted # rows 60\n"
     ]
    },
    {
     "data": {
      "text/plain": [
       "{'row_count': 60}"
      ]
     },
     "execution_count": 6,
     "metadata": {},
     "output_type": "execute_result"
    }
   ],
   "source": [
    "res = milvus_client.insert(collection_name=MY_CONFIG.COLLECTION_NAME, data=data_df.to_dict('records'))\n",
    "\n",
    "print('inserted # rows', res['insert_count'])\n",
    "\n",
    "milvus_client.get_collection_stats(MY_CONFIG.COLLECTION_NAME)"
   ]
  },
  {
   "cell_type": "markdown",
   "metadata": {},
   "source": [
    "## Step-6: Close DB Connection\n",
    "\n",
    "Close the connection so the lock files are relinquished and other notebooks can access the db"
   ]
  },
  {
   "cell_type": "code",
   "execution_count": 7,
   "metadata": {},
   "outputs": [
    {
     "name": "stdout",
     "output_type": "stream",
     "text": [
      "✅ SUCCESS\n"
     ]
    }
   ],
   "source": [
    "milvus_client.close()\n",
    "\n",
    "print (\"✅ SUCCESS\")\n"
   ]
  },
  {
   "cell_type": "markdown",
   "metadata": {},
   "source": [
    "## Test your data by doing a Vector Search\n",
    "\n",
    "See notebook [vector_search.ipynb](vector_search.ipynb)"
   ]
  }
 ],
 "metadata": {
  "kernelspec": {
   "display_name": "dpk-2-rag-pdf-r1.0.0-py3.11",
   "language": "python",
   "name": "python3"
  },
  "language_info": {
   "codemirror_mode": {
    "name": "ipython",
    "version": 3
   },
   "file_extension": ".py",
   "mimetype": "text/x-python",
   "name": "python",
   "nbconvert_exporter": "python",
   "pygments_lexer": "ipython3",
   "version": "3.11.11"
  }
 },
 "nbformat": 4,
 "nbformat_minor": 4
}
